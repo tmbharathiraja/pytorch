{
  "cells": [
    {
      "cell_type": "markdown",
      "metadata": {
        "id": "LXc0VGj8uEdk"
      },
      "source": [
        "# Problem : Linear Calibration (Thermometer)\n",
        "\n",
        "- **Task:** Map “unknown-scale” readings $t_u$ to true Celsius $t_c$ using a simple nn.Sequential model."
      ]
    },
    {
      "cell_type": "markdown",
      "metadata": {
        "id": "MJQBUHWhuB8T"
      },
      "source": [
        "# Imports"
      ]
    },
    {
      "cell_type": "code",
      "execution_count": 70,
      "metadata": {
        "colab": {
          "base_uri": "https://localhost:8080/"
        },
        "id": "PEcqf3lrtnMq",
        "outputId": "ad37668a-31a2-4f9c-fcb1-965f57fba927"
      },
      "outputs": [
        {
          "name": "stdout",
          "output_type": "stream",
          "text": [
            "3.12.12 | packaged by conda-forge | (main, Oct 22 2025, 23:28:53) [Clang 19.1.7 ]\n",
            "2.8.0\n",
            "2.3.4\n"
          ]
        }
      ],
      "source": [
        "import sys\n",
        "import torch\n",
        "import numpy as np\n",
        "import matplotlib.pyplot as plt\n",
        "\n",
        "print(sys.version)\n",
        "print(torch.__version__)\n",
        "print(np.__version__)"
      ]
    },
    {
      "cell_type": "markdown",
      "metadata": {
        "id": "sxfQeUw-t_IB"
      },
      "source": [
        "# Dataset"
      ]
    },
    {
      "cell_type": "code",
      "execution_count": 71,
      "metadata": {
        "colab": {
          "base_uri": "https://localhost:8080/",
          "height": 449
        },
        "id": "AAoCUTQ5fwkL",
        "outputId": "38109a65-0da6-4b19-f16b-11c10c8bafbf"
      },
      "outputs": [
        {
          "data": {
            "image/png": "[encoded data removed]",
            "text/plain": [
              "<Figure size 640x480 with 1 Axes>"
            ]
          },
          "metadata": {},
          "output_type": "display_data"
        }
      ],
      "source": [
        "t_c = torch.tensor([0.5, 14.0, 15.0, 28.0, 11.0,\n",
        "                    8.0, 3.0, -4.0, 6.0, 13.0, 21.0])\n",
        "t_u = torch.tensor([35.7, 55.9, 58.2, 81.9, 56.3, 48.9,\n",
        "                    33.9, 21.8, 48.4, 60.4, 68.4])\n",
        "\n",
        "plt.grid(True)\n",
        "plt.plot(t_u.numpy(), t_c.numpy(), 'o', color='red')\n",
        "plt.xlabel('Temperature (Unknown Units)')\n",
        "plt.ylabel('Temperature (°Celsius)')\n",
        "plt.show()"
      ]
    },
    {
      "cell_type": "code",
      "execution_count": 72,
      "metadata": {},
      "outputs": [
        {
          "name": "stderr",
          "output_type": "stream",
          "text": [
            "/var/folders/js/_k136j9d7gg6wnt5qljgw61r0000gq/T/ipykernel_8788/4186579624.py:1: UserWarning: To copy construct from a tensor, it is recommended to use sourceTensor.detach().clone() or sourceTensor.detach().clone().requires_grad_(True), rather than torch.tensor(sourceTensor).\n",
            "  t_c = torch.tensor(t_c).unsqueeze(1)\n",
            "/var/folders/js/_k136j9d7gg6wnt5qljgw61r0000gq/T/ipykernel_8788/4186579624.py:2: UserWarning: To copy construct from a tensor, it is recommended to use sourceTensor.detach().clone() or sourceTensor.detach().clone().requires_grad_(True), rather than torch.tensor(sourceTensor).\n",
            "  t_u = torch.tensor(t_u).unsqueeze(1)\n"
          ]
        },
        {
          "data": {
            "text/plain": [
              "(torch.Size([11, 1]), torch.Size([11, 1]))"
            ]
          },
          "execution_count": 72,
          "metadata": {},
          "output_type": "execute_result"
        }
      ],
      "source": [
        "t_c = torch.tensor(t_c).unsqueeze(1)\n",
        "t_u = torch.tensor(t_u).unsqueeze(1) \n",
        "\n",
        "t_c.shape, t_u.shape"
      ]
    },
    {
      "cell_type": "markdown",
      "metadata": {
        "id": "Im5Vx7yE1uMV"
      },
      "source": [
        "# Nonmalization"
      ]
    },
    {
      "cell_type": "code",
      "execution_count": 73,
      "metadata": {
        "id": "TPjAtsC1Vf7Y"
      },
      "outputs": [],
      "source": [
        "normalization_factor = 0.1"
      ]
    },
    {
      "cell_type": "code",
      "execution_count": 74,
      "metadata": {
        "id": "zJx2r6a01tia"
      },
      "outputs": [],
      "source": [
        "t_u *= normalization_factor\n",
        "t_c *= normalization_factor"
      ]
    },
    {
      "cell_type": "markdown",
      "metadata": {
        "id": "xa0maoSewF91"
      },
      "source": [
        "# Model - Using nn.Sequential\n",
        "\n"
      ]
    },
    {
      "cell_type": "code",
      "execution_count": 75,
      "metadata": {},
      "outputs": [
        {
          "data": {
            "text/plain": [
              "Sequential(\n",
              "  (hidden_linear): Linear(in_features=1, out_features=13, bias=True)\n",
              "  (hidden_activation): Tanh()\n",
              "  (output_linear): Linear(in_features=13, out_features=1, bias=True)\n",
              ")"
            ]
          },
          "execution_count": 75,
          "metadata": {},
          "output_type": "execute_result"
        }
      ],
      "source": [
        "import torch.nn as nn\n",
        "from collections import OrderedDict\n",
        "seq_model = nn.Sequential(OrderedDict([\n",
        "    ('hidden_linear', nn.Linear(1, 13)),\n",
        "    ('hidden_activation', nn.Tanh()),\n",
        "    ('output_linear', nn.Linear(13, 1))\n",
        "]))\n",
        "seq_model"
      ]
    },
    {
      "cell_type": "markdown",
      "metadata": {
        "id": "J_nDYYi1yS5y"
      },
      "source": [
        "# Loss Function - torch.nn.MSELoss\n",
        "\n",
        "\n",
        "$$\n",
        "L(yp,y)=\\frac{1}{N}\\sum_{i=1}^{N}\\Big(yp^{(i)}-y^{(i)}\\Big)^2\n",
        "$$\n",
        "\n",
        "&emsp;&emsp;&emsp;yp : Predicted values.<br>\n",
        "&emsp;&emsp;&emsp;y  : Acutal Values.\n",
        "\n",
        "\n"
      ]
    },
    {
      "cell_type": "code",
      "execution_count": 76,
      "metadata": {
        "id": "F_vXThugfwkM"
      },
      "outputs": [],
      "source": [
        "import torch.nn as nn\n",
        "loss_fn = nn.MSELoss()"
      ]
    },
    {
      "cell_type": "markdown",
      "metadata": {
        "id": "n6q7OppWyvAM"
      },
      "source": [
        "# Backword Propogation Gradients - using torch.optim.SGD\n",
        "\n",
        "Using pytorch SGD optimizer to perform backword propagation and paramert updations.\n"
      ]
    },
    {
      "cell_type": "code",
      "execution_count": 77,
      "metadata": {
        "id": "2oeICnciLfLT"
      },
      "outputs": [],
      "source": [
        "import torch.optim as optim\n",
        "learning_rate = 1e-2\n",
        "optimizer = optim.SGD(seq_model.parameters(), lr=learning_rate)"
      ]
    },
    {
      "cell_type": "markdown",
      "metadata": {
        "id": "k5rVyoin8fZW"
      },
      "source": [
        "# Gradient Descent Training Loop \n"
      ]
    },
    {
      "cell_type": "code",
      "execution_count": 78,
      "metadata": {
        "id": "ODMBboHVfwkM"
      },
      "outputs": [],
      "source": [
        "def training_loop(n_epochs, optimizer, model, loss_fn, x, y, print_params=True):\n",
        "    for epoch in range(1, n_epochs + 1):\n",
        "        y_pred = model(x)\n",
        "        loss = loss_fn(y_pred, y)\n",
        "\n",
        "        optimizer.zero_grad()\n",
        "        loss.backward()\n",
        "        optimizer.step()\n",
        "\n",
        "\n",
        "        if epoch in {1, 2, 3, 10, 11, 99, 100, 4000, 5000}:\n",
        "            print('Epoch %d, Loss %f' % (epoch, float(loss)))\n",
        "            if print_params:\n",
        "                params = list(model.named_parameters())\n",
        "                print('    Params:', params)\n",
        "        if epoch in {4, 12, 101}:\n",
        "            print('...')\n",
        "\n",
        "        if not torch.isfinite(loss).all():\n",
        "            break\n",
        "\n",
        "    return params"
      ]
    },
    {
      "cell_type": "code",
      "execution_count": 79,
      "metadata": {
        "colab": {
          "base_uri": "https://localhost:8080/"
        },
        "id": "WPs5CFVkfwkN",
        "outputId": "a8229f96-8550-4244-a737-0d88bea110ae"
      },
      "outputs": [
        {
          "name": "stdout",
          "output_type": "stream",
          "text": [
            "Epoch 1, Loss 0.984531\n",
            "    Params: [('hidden_linear.weight', Parameter containing:\n",
            "tensor([[ 0.5609],\n",
            "        [ 0.5950],\n",
            "        [-0.2775],\n",
            "        [ 0.0408],\n",
            "        [ 0.5006],\n",
            "        [-0.3382],\n",
            "        [ 0.1527],\n",
            "        [ 0.5897],\n",
            "        [ 0.9499],\n",
            "        [-0.7876],\n",
            "        [ 0.4605],\n",
            "        [-0.4748],\n",
            "        [-0.0665]], requires_grad=True)), ('hidden_linear.bias', Parameter containing:\n",
            "tensor([-0.2349,  0.0082, -0.8630, -0.4389, -0.0302, -0.5030,  0.2320, -0.4035,\n",
            "         0.2561,  0.7662,  0.0550, -0.1382,  0.9753], requires_grad=True)), ('output_linear.weight', Parameter containing:\n",
            "tensor([[-0.1350, -0.1017, -0.0231,  0.1880, -0.0613, -0.2660,  0.2250,  0.0743,\n",
            "          0.2079, -0.1787, -0.0660, -0.1128,  0.1207]], requires_grad=True)), ('output_linear.bias', Parameter containing:\n",
            "tensor([-0.0014], requires_grad=True))]\n",
            "Epoch 2, Loss 0.844253\n",
            "    Params: [('hidden_linear.weight', Parameter containing:\n",
            "tensor([[ 0.5611],\n",
            "        [ 0.5951],\n",
            "        [-0.2775],\n",
            "        [ 0.0528],\n",
            "        [ 0.5007],\n",
            "        [-0.3380],\n",
            "        [ 0.1557],\n",
            "        [ 0.5895],\n",
            "        [ 0.9498],\n",
            "        [-0.7873],\n",
            "        [ 0.4606],\n",
            "        [-0.4747],\n",
            "        [-0.0602]], requires_grad=True)), ('hidden_linear.bias', Parameter containing:\n",
            "tensor([-0.2348,  0.0082, -0.8630, -0.4375, -0.0301, -0.5029,  0.2322, -0.4036,\n",
            "         0.2560,  0.7664,  0.0550, -0.1381,  0.9761], requires_grad=True)), ('output_linear.weight', Parameter containing:\n",
            "tensor([[-0.1271, -0.0940, -0.0307,  0.1874, -0.0535, -0.2737,  0.2322,  0.0823,\n",
            "          0.2153, -0.1866, -0.0581, -0.1206,  0.1236]], requires_grad=True)), ('output_linear.bias', Parameter containing:\n",
            "tensor([0.0060], requires_grad=True))]\n",
            "Epoch 3, Loss 0.763967\n",
            "    Params: [('hidden_linear.weight', Parameter containing:\n",
            "tensor([[ 0.5614],\n",
            "        [ 0.5953],\n",
            "        [-0.2775],\n",
            "        [ 0.0629],\n",
            "        [ 0.5008],\n",
            "        [-0.3377],\n",
            "        [ 0.1577],\n",
            "        [ 0.5893],\n",
            "        [ 0.9498],\n",
            "        [-0.7868],\n",
            "        [ 0.4608],\n",
            "        [-0.4745],\n",
            "        [-0.0550]], requires_grad=True)), ('hidden_linear.bias', Parameter containing:\n",
            "tensor([-0.2347,  0.0083, -0.8630, -0.4365, -0.0301, -0.5027,  0.2322, -0.4037,\n",
            "         0.2560,  0.7666,  0.0551, -0.1380,  0.9766], requires_grad=True)), ('output_linear.weight', Parameter containing:\n",
            "tensor([[-0.1212, -0.0884, -0.0362,  0.1879, -0.0477, -0.2793,  0.2379,  0.0882,\n",
            "          0.2206, -0.1925, -0.0523, -0.1263,  0.1256]], requires_grad=True)), ('output_linear.bias', Parameter containing:\n",
            "tensor([0.0113], requires_grad=True))]\n",
            "...\n",
            "Epoch 10, Loss 0.647406\n",
            "    Params: [('hidden_linear.weight', Parameter containing:\n",
            "tensor([[ 0.5639],\n",
            "        [ 0.5963],\n",
            "        [-0.2771],\n",
            "        [ 0.1044],\n",
            "        [ 0.5016],\n",
            "        [-0.3333],\n",
            "        [ 0.1592],\n",
            "        [ 0.5868],\n",
            "        [ 0.9495],\n",
            "        [-0.7827],\n",
            "        [ 0.4617],\n",
            "        [-0.4722],\n",
            "        [-0.0334]], requires_grad=True)), ('hidden_linear.bias', Parameter containing:\n",
            "tensor([-0.2337,  0.0087, -0.8628, -0.4348, -0.0298, -0.5008,  0.2290, -0.4047,\n",
            "         0.2559,  0.7683,  0.0555, -0.1371,  0.9781], requires_grad=True)), ('output_linear.weight', Parameter containing:\n",
            "tensor([[-0.1069, -0.0763, -0.0479,  0.2019, -0.0339, -0.2923,  0.2563,  0.1035,\n",
            "          0.2304, -0.2067, -0.0384, -0.1394,  0.1266]], requires_grad=True)), ('output_linear.bias', Parameter containing:\n",
            "tensor([0.0207], requires_grad=True))]\n",
            "Epoch 11, Loss 0.644009\n",
            "    Params: [('hidden_linear.weight', Parameter containing:\n",
            "tensor([[ 0.5642],\n",
            "        [ 0.5964],\n",
            "        [-0.2770],\n",
            "        [ 0.1082],\n",
            "        [ 0.5017],\n",
            "        [-0.3326],\n",
            "        [ 0.1586],\n",
            "        [ 0.5864],\n",
            "        [ 0.9494],\n",
            "        [-0.7821],\n",
            "        [ 0.4618],\n",
            "        [-0.4718],\n",
            "        [-0.0313]], requires_grad=True)), ('hidden_linear.bias', Parameter containing:\n",
            "tensor([-0.2336,  0.0087, -0.8628, -0.4349, -0.0297, -0.5005,  0.2283, -0.4048,\n",
            "         0.2559,  0.7685,  0.0555, -0.1370,  0.9782], requires_grad=True)), ('output_linear.weight', Parameter containing:\n",
            "tensor([[-0.1065, -0.0762, -0.0479,  0.2044, -0.0335, -0.2925,  0.2576,  0.1041,\n",
            "          0.2301, -0.2071, -0.0380, -0.1396,  0.1259]], requires_grad=True)), ('output_linear.bias', Parameter containing:\n",
            "tensor([0.0204], requires_grad=True))]\n",
            "...\n",
            "Epoch 99, Loss 0.494554\n",
            "    Params: [('hidden_linear.weight', Parameter containing:\n",
            "tensor([[ 0.5919],\n",
            "        [ 0.6099],\n",
            "        [-0.2723],\n",
            "        [ 0.1903],\n",
            "        [ 0.5109],\n",
            "        [-0.2591],\n",
            "        [ 0.1297],\n",
            "        [ 0.5452],\n",
            "        [ 0.9458],\n",
            "        [-0.7208],\n",
            "        [ 0.4723],\n",
            "        [-0.4390],\n",
            "        [ 0.0365]], requires_grad=True)), ('hidden_linear.bias', Parameter containing:\n",
            "tensor([-0.2227,  0.0141, -0.8608, -0.5151, -0.0261, -0.4706,  0.1638, -0.4209,\n",
            "         0.2543,  0.7935,  0.0596, -0.1243,  0.9748], requires_grad=True)), ('output_linear.weight', Parameter containing:\n",
            "tensor([[-0.1104, -0.1039, -0.0193,  0.4588, -0.0390, -0.2892,  0.3503,  0.1258,\n",
            "          0.1747, -0.2159, -0.0419, -0.1314,  0.0868]], requires_grad=True)), ('output_linear.bias', Parameter containing:\n",
            "tensor([-0.0390], requires_grad=True))]\n",
            "Epoch 100, Loss 0.493023\n",
            "    Params: [('hidden_linear.weight', Parameter containing:\n",
            "tensor([[ 0.5922],\n",
            "        [ 0.6100],\n",
            "        [-0.2722],\n",
            "        [ 0.1904],\n",
            "        [ 0.5110],\n",
            "        [-0.2582],\n",
            "        [ 0.1296],\n",
            "        [ 0.5446],\n",
            "        [ 0.9457],\n",
            "        [-0.7200],\n",
            "        [ 0.4724],\n",
            "        [-0.4386],\n",
            "        [ 0.0369]], requires_grad=True)), ('hidden_linear.bias', Parameter containing:\n",
            "tensor([-0.2226,  0.0142, -0.8608, -0.5164, -0.0261, -0.4703,  0.1630, -0.4211,\n",
            "         0.2543,  0.7938,  0.0596, -0.1241,  0.9747], requires_grad=True)), ('output_linear.weight', Parameter containing:\n",
            "tensor([[-0.1104, -0.1042, -0.0190,  0.4617, -0.0390, -0.2894,  0.3513,  0.1262,\n",
            "          0.1741, -0.2162, -0.0419, -0.1314,  0.0865]], requires_grad=True)), ('output_linear.bias', Parameter containing:\n",
            "tensor([-0.0396], requires_grad=True))]\n",
            "...\n",
            "Epoch 4000, Loss 0.025366\n",
            "    Params: [('hidden_linear.weight', Parameter containing:\n",
            "tensor([[ 0.6147],\n",
            "        [ 0.6253],\n",
            "        [-0.2804],\n",
            "        [ 0.2249],\n",
            "        [ 0.5462],\n",
            "        [-0.0614],\n",
            "        [ 0.0816],\n",
            "        [ 0.1122],\n",
            "        [ 0.9538],\n",
            "        [-0.1704],\n",
            "        [ 0.5093],\n",
            "        [-0.3936],\n",
            "        [ 0.0589]], requires_grad=True)), ('hidden_linear.bias', Parameter containing:\n",
            "tensor([-0.2164,  0.0184, -0.8708, -1.5376, -0.0116, -0.3840, -0.0728, -0.5793,\n",
            "         0.2579,  1.1109,  0.0749, -0.1493,  0.9723], requires_grad=True)), ('output_linear.weight', Parameter containing:\n",
            "tensor([[-0.0354, -0.0140, -0.1536,  1.5202,  0.0491, -0.5675,  0.7834,  0.4743,\n",
            "          0.2885, -0.6640,  0.0525, -0.2292,  0.2704]], requires_grad=True)), ('output_linear.bias', Parameter containing:\n",
            "tensor([0.0808], requires_grad=True))]\n",
            "Epoch 5000, Loss 0.023332\n",
            "    Params: [('hidden_linear.weight', Parameter containing:\n",
            "tensor([[ 0.6115],\n",
            "        [ 0.6247],\n",
            "        [-0.2828],\n",
            "        [ 0.2363],\n",
            "        [ 0.5500],\n",
            "        [-0.0567],\n",
            "        [ 0.0759],\n",
            "        [ 0.1084],\n",
            "        [ 0.9562],\n",
            "        [-0.1708],\n",
            "        [ 0.5133],\n",
            "        [-0.4101],\n",
            "        [ 0.0534]], requires_grad=True)), ('hidden_linear.bias', Parameter containing:\n",
            "tensor([-0.2178,  0.0181, -0.8734, -1.6190, -0.0099, -0.3936, -0.0609, -0.5829,\n",
            "         0.2589,  1.1338,  0.0768, -0.1590,  0.9744], requires_grad=True)), ('output_linear.weight', Parameter containing:\n",
            "tensor([[-0.0355, -0.0059, -0.1658,  1.5309,  0.0512, -0.5739,  0.7775,  0.4690,\n",
            "          0.3077, -0.6670,  0.0548, -0.2263,  0.2864]], requires_grad=True)), ('output_linear.bias', Parameter containing:\n",
            "tensor([0.1017], requires_grad=True))]\n",
            "Learned parameters: [Parameter containing:\n",
            "tensor([[ 0.6115],\n",
            "        [ 0.6247],\n",
            "        [-0.2828],\n",
            "        [ 0.2363],\n",
            "        [ 0.5500],\n",
            "        [-0.0567],\n",
            "        [ 0.0759],\n",
            "        [ 0.1084],\n",
            "        [ 0.9562],\n",
            "        [-0.1708],\n",
            "        [ 0.5133],\n",
            "        [-0.4101],\n",
            "        [ 0.0534]], requires_grad=True), Parameter containing:\n",
            "tensor([-0.2178,  0.0181, -0.8734, -1.6190, -0.0099, -0.3936, -0.0609, -0.5829,\n",
            "         0.2589,  1.1338,  0.0768, -0.1590,  0.9744], requires_grad=True), Parameter containing:\n",
            "tensor([[-0.0355, -0.0059, -0.1658,  1.5309,  0.0512, -0.5739,  0.7775,  0.4690,\n",
            "          0.3077, -0.6670,  0.0548, -0.2263,  0.2864]], requires_grad=True), Parameter containing:\n",
            "tensor([0.1017], requires_grad=True)]\n"
          ]
        }
      ],
      "source": [
        "training_loop(\n",
        "    n_epochs = 5000,\n",
        "    optimizer = optimizer,\n",
        "    model = seq_model,\n",
        "    loss_fn = loss_fn,\n",
        "    x = t_u,\n",
        "    y = t_c)\n",
        "\n",
        "params = list(seq_model.parameters())\n",
        "print('Learned parameters:', params)"
      ]
    },
    {
      "cell_type": "markdown",
      "metadata": {
        "id": "Kfle63IPzNye"
      },
      "source": [
        "# Output"
      ]
    },
    {
      "cell_type": "code",
      "execution_count": 80,
      "metadata": {
        "colab": {
          "base_uri": "https://localhost:8080/",
          "height": 449
        },
        "id": "PIleS1YwfwkN",
        "outputId": "dad78892-f860-4600-df4e-237f702dd401"
      },
      "outputs": [
        {
          "data": {
            "image/png": "[encoded data removed]",
            "text/plain": [
              "<Figure size 640x480 with 1 Axes>"
            ]
          },
          "metadata": {},
          "output_type": "display_data"
        }
      ],
      "source": [
        "t_p = seq_model(t_u)\n",
        "\n",
        "#scale back\n",
        "t_u /= normalization_factor\n",
        "t_p /= normalization_factor\n",
        "t_c /= normalization_factor\n",
        "\n",
        "t_range = torch.arange(20., 90.).unsqueeze(1)\n",
        "y_range = seq_model(t_range * normalization_factor) / normalization_factor\n",
        "    \n",
        "fig = plt.figure(dpi=100)\n",
        "plt.grid(True)\n",
        "plt.xlabel(\"Temperature (°Fahrenheit)\")\n",
        "plt.ylabel(\"Temperature (°Celsius)\")\n",
        "plt.plot(t_u.numpy(), t_p.detach().numpy(), \"c-\", label=\"Predicted\")\n",
        "plt.plot(t_u.numpy(), t_c.numpy(), 'o', label=\"Actual\")\n",
        "plt.plot(t_range.numpy(), y_range.detach().numpy(), 'kx', label=\"Predicted Range\")\n",
        "plt.legend()\n",
        "plt.show()"
      ]
    },
    {
      "cell_type": "code",
      "execution_count": null,
      "metadata": {
        "id": "R-Mf9UKFMaMd"
      },
      "outputs": [],
      "source": []
    }
  ],
  "metadata": {
    "colab": {
      "provenance": []
    },
    "kernelspec": {
      "display_name": "PyTorch",
      "language": "python",
      "name": "python3"
    },
    "language_info": {
      "codemirror_mode": {
        "name": "ipython",
        "version": 3
      },
      "file_extension": ".py",
      "mimetype": "text/x-python",
      "name": "python",
      "nbconvert_exporter": "python",
      "pygments_lexer": "ipython3",
      "version": "3.12.12"
    }
  },
  "nbformat": 4,
  "nbformat_minor": 0
}
