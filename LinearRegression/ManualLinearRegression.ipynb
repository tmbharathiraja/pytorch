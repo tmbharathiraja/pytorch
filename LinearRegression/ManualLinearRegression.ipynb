{
  "cells": [
    {
      "cell_type": "markdown",
      "metadata": {
        "id": "LXc0VGj8uEdk"
      },
      "source": [
        "# Problem : Linear Calibration (Thermometer)\n",
        "\n",
        "- **Task:** Map “unknown-scale” readings $t_u$ to true Celsius $t_c$ using a linear model.\n",
        "\n",
        "$$\n",
        "t_p = w\\, t_u + b\n",
        "$$\n",
        "\n",
        "- **Interpretation:**\n",
        "  - $w$: gain/scale (stretch/squeeze)\n",
        "  - $b$: offset/bias (systematic shift)\n",
        "- **Why linear?** Sensors are often approximately affine over normal ranges.\n",
        "- **Goal:** Find $w,b$ that make predictions $t_p$ close to targets $t_c$ using mnnaually coded loss, gradient functions.\n"
      ]
    },
    {
      "cell_type": "markdown",
      "metadata": {
        "id": "MJQBUHWhuB8T"
      },
      "source": [
        "# Imports"
      ]
    },
    {
      "cell_type": "code",
      "execution_count": 72,
      "metadata": {
        "colab": {
          "base_uri": "https://localhost:8080/"
        },
        "id": "PEcqf3lrtnMq",
        "outputId": "139d2c53-66fe-4f4f-e0d5-5f4473fd3590"
      },
      "outputs": [
        {
          "name": "stdout",
          "output_type": "stream",
          "text": [
            "3.12.12 | packaged by conda-forge | (main, Oct 22 2025, 23:28:53) [Clang 19.1.7 ]\n",
            "2.8.0\n",
            "2.3.4\n"
          ]
        }
      ],
      "source": [
        "import sys\n",
        "import torch\n",
        "import numpy as np\n",
        "import matplotlib.pyplot as plt\n",
        "\n",
        "print(sys.version)\n",
        "print(torch.__version__)\n",
        "print(np.__version__)"
      ]
    },
    {
      "cell_type": "markdown",
      "metadata": {
        "id": "sxfQeUw-t_IB"
      },
      "source": [
        "# Dataset"
      ]
    },
    {
      "cell_type": "code",
      "execution_count": 73,
      "metadata": {
        "colab": {
          "base_uri": "https://localhost:8080/",
          "height": 449
        },
        "id": "AAoCUTQ5fwkL",
        "outputId": "0a9d8a05-afce-48fe-ebdb-057227b5c977"
      },
      "outputs": [
        {
          "data": {
            "image/png": "[encoded data removed]",
            "text/plain": [
              "<Figure size 640x480 with 1 Axes>"
            ]
          },
          "metadata": {},
          "output_type": "display_data"
        }
      ],
      "source": [
        "t_c = torch.tensor([0.5, 14.0, 15.0, 28.0, 11.0,\n",
        "                    8.0, 3.0, -4.0, 6.0, 13.0, 21.0])\n",
        "t_u = torch.tensor([35.7, 55.9, 58.2, 81.9, 56.3, 48.9,\n",
        "                    33.9, 21.8, 48.4, 60.4, 68.4])\n",
        "\n",
        "plt.grid(True)\n",
        "plt.plot(t_u.numpy(), t_c.numpy(), 'o', color='red')\n",
        "plt.xlabel('Temperature (Unknown Units)')\n",
        "plt.ylabel('Temperature (°Celsius)')\n",
        "plt.show()"
      ]
    },
    {
      "cell_type": "markdown",
      "metadata": {
        "id": "Im5Vx7yE1uMV"
      },
      "source": [
        "# Nonmalization"
      ]
    },
    {
      "cell_type": "code",
      "execution_count": 74,
      "metadata": {
        "id": "AX2m7_SXVFVc"
      },
      "outputs": [],
      "source": [
        "normalization_factor = 0.1"
      ]
    },
    {
      "cell_type": "code",
      "execution_count": 75,
      "metadata": {
        "id": "zJx2r6a01tia"
      },
      "outputs": [],
      "source": [
        "t_u *= normalization_factor\n",
        "t_c *= normalization_factor"
      ]
    },
    {
      "cell_type": "markdown",
      "metadata": {
        "id": "xa0maoSewF91"
      },
      "source": [
        "# Model\n",
        "Simple linear model  \n",
        "$y = w \\times x + b$\n",
        "\n",
        "\n"
      ]
    },
    {
      "cell_type": "code",
      "execution_count": 76,
      "metadata": {
        "id": "1Mp3dKmIfwkM"
      },
      "outputs": [],
      "source": [
        "def model(x, w, b):\n",
        "    return w * x + b"
      ]
    },
    {
      "cell_type": "markdown",
      "metadata": {
        "id": "J_nDYYi1yS5y"
      },
      "source": [
        "# Loss Function - Mean Squared Error\n",
        "\n",
        "\n",
        "$$\n",
        "L(yp,y)=\\frac{1}{N}\\sum_{i=1}^{N}\\Big(yp^{(i)}-y^{(i)}\\Big)^2\n",
        "$$\n",
        "\n",
        "&emsp;&emsp;&emsp;yp : Predicted values.<br>\n",
        "&emsp;&emsp;&emsp;y  : Acutal Values.\n",
        "\n",
        "- **Intuition:** One scalar measures fit quality (smaller is better). Squaring emphasizes large errors and keeps derivatives smooth.\n",
        "- **Sanity checks:** Evaluate loss for multiple $(w,b)$ guesses to confirm expected behavior.\n"
      ]
    },
    {
      "cell_type": "code",
      "execution_count": 77,
      "metadata": {
        "id": "F_vXThugfwkM"
      },
      "outputs": [],
      "source": [
        "def loss_fn(yp, y):\n",
        "    squared_diffs = (yp - y)**2\n",
        "    return squared_diffs.mean()"
      ]
    },
    {
      "cell_type": "markdown",
      "metadata": {
        "id": "n6q7OppWyvAM"
      },
      "source": [
        "# Backword Propogation Gradients\n",
        "\n",
        "\n",
        "- **Idea:** Approximate sensitivity of the loss with tiny nudges $\\delta$ (central differences):\n",
        "\n",
        "$$\n",
        "\\frac{\\partial L}{\\partial w}\\approx\\frac{L(w+\\delta,b)-L(w-\\delta,b)}{2\\delta},\\quad\n",
        "\\frac{\\partial L}{\\partial b}\\approx\\frac{L(w,b+\\delta)-L(w,b-\\delta)}{2\\delta}\n",
        "$$\n",
        "\n",
        "- **Pros:** Simple, model-agnostic, great for gradient debugging.\n",
        "- **Cons:** Extra loss evaluations; $\\delta$ must be chosen carefully (too big → bias; too small → floating-point noise).\n"
      ]
    },
    {
      "cell_type": "code",
      "execution_count": 78,
      "metadata": {
        "id": "7hmkUuCkwVFE"
      },
      "outputs": [],
      "source": [
        "def dmodel_dw(x, w, b):\n",
        "    return x"
      ]
    },
    {
      "cell_type": "code",
      "execution_count": 79,
      "metadata": {
        "id": "Iq_157tiwZPe"
      },
      "outputs": [],
      "source": [
        "def dmodel_db(x, w, b):\n",
        "    return 1.0"
      ]
    },
    {
      "cell_type": "markdown",
      "metadata": {
        "id": "YGo_HYde7zqS"
      },
      "source": [
        "# Analytical Gradients\n",
        "\n",
        "**Model & variables used in code**\n",
        "- Prediction: **`yp = w * x + b`**\n",
        "- Target: **`y`**\n",
        "- Residual (error): **`e = yp - y`**\n",
        "- Loss (MSE, mean reduction):  \n",
        "  $$\n",
        "  L \\;=\\; \\frac{1}{N}\\sum_{i=1}^{N}(yp^{(i)} - y^{(i)})^2 \\;\n",
        "  $$\n",
        "\n",
        "**Gradient wrt predictions (matches `dloss_fn`)**\n",
        "- Using MSE with **mean**:\n",
        "  $$\n",
        "  \\frac{\\partial L}{\\partial yp} \\;=\\; \\frac{2}{N}\\sum_{i=1}^{N}(yp^{(i)}- y^{(i)}) \\;\n",
        "  $$\n"
      ]
    },
    {
      "cell_type": "code",
      "execution_count": 80,
      "metadata": {
        "id": "ZvXBzxI-wNBI"
      },
      "outputs": [],
      "source": [
        "def dloss_fn(yp, y):\n",
        "    dsq_diffs = 2 * (yp - y) / yp.size(0)\n",
        "    return dsq_diffs"
      ]
    },
    {
      "cell_type": "code",
      "execution_count": 81,
      "metadata": {
        "id": "nEvZzVmB05-b"
      },
      "outputs": [],
      "source": [
        "def grad_fn(x, y, yp, w, b):\n",
        "    dloss_dtp = dloss_fn(yp, y)\n",
        "    dloss_dw = dloss_dtp * dmodel_dw(x, w, b)\n",
        "    dloss_db = dloss_dtp * dmodel_db(x, w, b)\n",
        "    return torch.stack([dloss_dw.sum(), dloss_db.sum()])"
      ]
    },
    {
      "cell_type": "markdown",
      "metadata": {
        "id": "k5rVyoin8fZW"
      },
      "source": [
        "# Manual Gradient Descent Training Loop (No Autograd)\n",
        "\n",
        "- **Update rule:**\n",
        "\n",
        "$$\n",
        "w \\leftarrow w - \\eta\\,\\frac{\\partial L}{\\partial w},\\qquad\n",
        "b \\leftarrow b - \\eta\\,\\frac{\\partial L}{\\partial b}\n",
        "$$\n",
        "\n",
        "- **Loop steps per epoch:**\n",
        "  1. Forward: $yp = w\\,x + b$\n",
        "  2. Compute $L$ (MSE)\n",
        "  3. Compute gradients (analytical)\n",
        "  4. Update $w,b$ with learning rate $\\eta$\n",
        "  5. Track $L$ over epochs\n",
        "\n",
        "- **Expected behavior:** Loss generally decreases; use plots to diagnose issues.\n"
      ]
    },
    {
      "cell_type": "code",
      "execution_count": 82,
      "metadata": {
        "id": "ODMBboHVfwkM"
      },
      "outputs": [],
      "source": [
        "def training_loop(n_epochs, learning_rate, params, x, y,\n",
        "                  print_params=True):\n",
        "    for epoch in range(1, n_epochs + 1):\n",
        "        w, b = params\n",
        "\n",
        "        yp = model(x, w, b)\n",
        "        loss = loss_fn(yp, y)\n",
        "        grad = grad_fn(x, y, yp, w, b)\n",
        "\n",
        "        params = params - learning_rate * grad\n",
        "\n",
        "        if epoch in {1, 2, 3, 10, 11, 99, 100, 4000, 5000}:\n",
        "            print('Epoch %d, Loss %f' % (epoch, float(loss)))\n",
        "            if print_params:\n",
        "                print('    Params:', params)\n",
        "                print('    Grad:  ', grad)\n",
        "        if epoch in {4, 12, 101}:\n",
        "            print('...')\n",
        "\n",
        "        if not torch.isfinite(loss).all():\n",
        "            break  # <3>\n",
        "\n",
        "    return params"
      ]
    },
    {
      "cell_type": "code",
      "execution_count": 83,
      "metadata": {
        "colab": {
          "base_uri": "https://localhost:8080/"
        },
        "id": "WPs5CFVkfwkN",
        "outputId": "c78e1881-4602-4040-a51f-490b8204d3da"
      },
      "outputs": [
        {
          "name": "stdout",
          "output_type": "stream",
          "text": [
            "Epoch 1, Loss 17.638847\n",
            "    Params: tensor([ 0.5483, -0.0826])\n",
            "    Grad:   tensor([45.1730,  8.2600])\n",
            "Epoch 2, Loss 2.944970\n",
            "    Params: tensor([ 0.3708, -0.1167])\n",
            "    Grad:   tensor([17.7483,  3.4149])\n",
            "Epoch 3, Loss 0.668645\n",
            "    Params: tensor([ 0.3012, -0.1318])\n",
            "    Grad:   tensor([6.9557, 1.5079])\n",
            "...\n",
            "Epoch 10, Loss 0.246408\n",
            "    Params: tensor([ 0.2592, -0.1587])\n",
            "    Grad:   tensor([-0.0370,  0.2693])\n",
            "Epoch 11, Loss 0.245671\n",
            "    Params: tensor([ 0.2596, -0.1613])\n",
            "    Grad:   tensor([-0.0431,  0.2677])\n",
            "...\n",
            "Epoch 99, Loss 0.189708\n",
            "    Params: tensor([ 0.2981, -0.3794])\n",
            "    Grad:   tensor([-0.0406,  0.2299])\n",
            "Epoch 100, Loss 0.189163\n",
            "    Params: tensor([ 0.2985, -0.3817])\n",
            "    Grad:   tensor([-0.0405,  0.2295])\n",
            "...\n",
            "Epoch 4000, Loss 0.029277\n",
            "    Params: tensor([ 0.5365, -1.7287])\n",
            "    Grad:   tensor([-5.4553e-05,  3.0266e-04])\n",
            "Epoch 5000, Loss 0.029276\n",
            "    Params: tensor([ 0.5367, -1.7302])\n",
            "    Grad:   tensor([-1.0915e-05,  5.5291e-05])\n"
          ]
        },
        {
          "data": {
            "text/plain": [
              "tensor([ 0.5367, -1.7302])"
            ]
          },
          "execution_count": 83,
          "metadata": {},
          "output_type": "execute_result"
        }
      ],
      "source": [
        "params = training_loop(\n",
        "    n_epochs = 5000,\n",
        "    learning_rate = 1e-2,\n",
        "    params = torch.tensor([1.0, 0.0]),\n",
        "    x = t_u,\n",
        "    y = t_c,\n",
        "    print_params = True)\n",
        "params"
      ]
    },
    {
      "cell_type": "markdown",
      "metadata": {
        "id": "8nOhYeHKTsjK"
      },
      "source": [
        "# Scaling both $X$ and $Y$ by $s$ — effect on $w$ and $b$ (example: $s=0.1$)\n",
        "\n",
        "**Original variables and model**\n",
        "- Input: $X$\n",
        "- Target: $Y$\n",
        "- True model: $Y = aX + b$\n",
        "\n",
        "**Scaled variables (with $s=0.1$ as an example)**\n",
        "- $x = sX$\n",
        "- $y = sY$\n",
        "\n",
        "**Training in scaled space**\n",
        "$$\n",
        "y = wx + b_{\\text{scaled}}.\n",
        "$$\n",
        "\n",
        "**Substitute back to original units** (since $y=sY$ and $x=sX$)\n",
        "$$\n",
        "sY = w(sX) + b_{\\text{scaled}}\n",
        "\\Rightarrow\n",
        "Y = wX + \\frac{b_{\\text{scaled}}}{s}.\n",
        "$$\n",
        "\n",
        "**Key result (when input *and* target are both scaled by the same $s$)**\n",
        "- Slope: $w_{\\text{original}} = w_{\\text{scaled}}$  *(unchanged)*\n",
        "- Intercept: $b_{\\text{original}} = \\frac{b_{\\text{scaled}}}{s}$\n",
        "\n",
        "---\n",
        "\n",
        "## Mapping learned parameters back to original units (example $s=0.1$)\n",
        "If training on $(x, y)$ yields $(w_{\\text{learn}}, b_{\\text{learn}})$, then\n",
        "$$\n",
        "w_{\\text{orig}} = w_{\\text{learn}}, \\qquad\n",
        "b_{\\text{orig}} = \\frac{b_{\\text{learn}}}{s} \\;=\\; 10\\,b_{\\text{learn}}.\n",
        "$$\n",
        "\n",
        "---\n",
        "\n",
        "## Cheat sheet\n",
        "\n",
        "| What you scaled                     | Training model     | Map **back** to original units |\n",
        "|---|---|---|\n",
        "| Input only: $x=sX$                 | $Y = wx + b$       | $w_{\\text{orig}} = ws,\\; b_{\\text{orig}} = b$ |\n",
        "| Target only: $y=sY$                | $y = wX + b$       | $w_{\\text{orig}} = \\frac{w}{s},\\; b_{\\text{orig}} = \\frac{b}{s}$ |\n",
        "| Input & Target: $x=sX,\\; y=sY$     | $y = wx + b$       | $w_{\\text{orig}} = w,\\; b_{\\text{orig}} = \\frac{b}{s}$ ✅ |\n",
        "\n",
        "\n",
        "so the final Params b need be scaled, after scaling the value should be close to\n",
        "\n",
        "$C = 0.5555556 * F − 17.777778$\n"
      ]
    },
    {
      "cell_type": "code",
      "execution_count": 84,
      "metadata": {
        "colab": {
          "base_uri": "https://localhost:8080/"
        },
        "id": "H4JekRTwU7Z-",
        "outputId": "129be962-122f-4db6-a07c-ea54b0b18688"
      },
      "outputs": [
        {
          "data": {
            "text/plain": [
              "(tensor(0.5367), tensor(-17.3015))"
            ]
          },
          "execution_count": 84,
          "metadata": {},
          "output_type": "execute_result"
        }
      ],
      "source": [
        "w = params[0]\n",
        "b = params[1] / normalization_factor\n",
        "w, b"
      ]
    },
    {
      "cell_type": "markdown",
      "metadata": {
        "id": "Kfle63IPzNye"
      },
      "source": [
        "# Output"
      ]
    },
    {
      "cell_type": "code",
      "execution_count": 85,
      "metadata": {
        "colab": {
          "base_uri": "https://localhost:8080/",
          "height": 449
        },
        "id": "PIleS1YwfwkN",
        "outputId": "e90de8fd-da5a-4459-bdbb-2448f1ad4d63"
      },
      "outputs": [
        {
          "data": {
            "image/png": "[encoded data removed]",
            "text/plain": [
              "<Figure size 640x480 with 1 Axes>"
            ]
          },
          "metadata": {},
          "output_type": "display_data"
        }
      ],
      "source": [
        "t_p = model(t_u, *params)\n",
        "\n",
        "#scale back\n",
        "t_u /= normalization_factor\n",
        "t_p /= normalization_factor\n",
        "t_c /= normalization_factor\n",
        "\n",
        "\n",
        "fig = plt.figure(dpi=100)\n",
        "plt.grid(True)\n",
        "plt.xlabel(\"Temperature (°Fahrenheit)\")\n",
        "plt.ylabel(\"Temperature (°Celsius)\")\n",
        "plt.plot(t_u.numpy(), t_p.detach().numpy(), \"c-\", label=\"Predicted\")\n",
        "plt.plot(t_u.numpy(), t_c.numpy(), 'o', label=\"Actual\")\n",
        "plt.legend()\n",
        "plt.show()"
      ]
    },
    {
      "cell_type": "code",
      "execution_count": null,
      "metadata": {},
      "outputs": [],
      "source": []
    }
  ],
  "metadata": {
    "colab": {
      "provenance": []
    },
    "kernelspec": {
      "display_name": "PyTorch",
      "language": "python",
      "name": "python3"
    },
    "language_info": {
      "codemirror_mode": {
        "name": "ipython",
        "version": 3
      },
      "file_extension": ".py",
      "mimetype": "text/x-python",
      "name": "python",
      "nbconvert_exporter": "python",
      "pygments_lexer": "ipython3",
      "version": "3.12.12"
    }
  },
  "nbformat": 4,
  "nbformat_minor": 0
}
