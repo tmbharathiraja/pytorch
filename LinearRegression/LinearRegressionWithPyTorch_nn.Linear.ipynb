{
  "cells": [
    {
      "cell_type": "markdown",
      "metadata": {
        "id": "LXc0VGj8uEdk"
      },
      "source": [
        "# Problem : Linear Calibration (Thermometer)\n",
        "\n",
        "- **Task:** Map “unknown-scale” readings $t_u$ to true Celsius $t_c$ using a linear model.\n",
        "\n",
        "$$\n",
        "t_p = w\\, t_u + b\n",
        "$$\n",
        "\n",
        "- **Interpretation:**\n",
        "  - $w$: gain/scale (stretch/squeeze)\n",
        "  - $b$: offset/bias (systematic shift)\n",
        "- **Why linear?** Sensors are often approximately affine over normal ranges.\n",
        "- **Goal:** Find $w,b$ that make predictions $t_p$ close to targets $t_c$ using mnnaually coded loss, gradient functions.\n"
      ]
    },
    {
      "cell_type": "markdown",
      "metadata": {
        "id": "MJQBUHWhuB8T"
      },
      "source": [
        "# Imports"
      ]
    },
    {
      "cell_type": "code",
      "execution_count": 48,
      "metadata": {
        "colab": {
          "base_uri": "https://localhost:8080/"
        },
        "id": "PEcqf3lrtnMq",
        "outputId": "ad37668a-31a2-4f9c-fcb1-965f57fba927"
      },
      "outputs": [
        {
          "name": "stdout",
          "output_type": "stream",
          "text": [
            "3.12.12 | packaged by conda-forge | (main, Oct 22 2025, 23:28:53) [Clang 19.1.7 ]\n",
            "2.8.0\n",
            "2.3.4\n"
          ]
        }
      ],
      "source": [
        "import sys\n",
        "import torch\n",
        "import numpy as np\n",
        "import matplotlib.pyplot as plt\n",
        "\n",
        "print(sys.version)\n",
        "print(torch.__version__)\n",
        "print(np.__version__)"
      ]
    },
    {
      "cell_type": "markdown",
      "metadata": {
        "id": "sxfQeUw-t_IB"
      },
      "source": [
        "# Dataset"
      ]
    },
    {
      "cell_type": "code",
      "execution_count": 49,
      "metadata": {
        "colab": {
          "base_uri": "https://localhost:8080/",
          "height": 449
        },
        "id": "AAoCUTQ5fwkL",
        "outputId": "38109a65-0da6-4b19-f16b-11c10c8bafbf"
      },
      "outputs": [
        {
          "data": {
            "image/png": "[encoded data removed]",
            "text/plain": [
              "<Figure size 640x480 with 1 Axes>"
            ]
          },
          "metadata": {},
          "output_type": "display_data"
        }
      ],
      "source": [
        "t_c = torch.tensor([0.5, 14.0, 15.0, 28.0, 11.0,\n",
        "                    8.0, 3.0, -4.0, 6.0, 13.0, 21.0])\n",
        "t_u = torch.tensor([35.7, 55.9, 58.2, 81.9, 56.3, 48.9,\n",
        "                    33.9, 21.8, 48.4, 60.4, 68.4])\n",
        "\n",
        "plt.grid(True)\n",
        "plt.plot(t_u.numpy(), t_c.numpy(), 'o', color='red')\n",
        "plt.xlabel('Temperature (Unknown Units)')\n",
        "plt.ylabel('Temperature (°Celsius)')\n",
        "plt.show()"
      ]
    },
    {
      "cell_type": "code",
      "execution_count": 50,
      "metadata": {},
      "outputs": [
        {
          "name": "stderr",
          "output_type": "stream",
          "text": [
            "/var/folders/js/_k136j9d7gg6wnt5qljgw61r0000gq/T/ipykernel_4347/4186579624.py:1: UserWarning: To copy construct from a tensor, it is recommended to use sourceTensor.detach().clone() or sourceTensor.detach().clone().requires_grad_(True), rather than torch.tensor(sourceTensor).\n",
            "  t_c = torch.tensor(t_c).unsqueeze(1)\n",
            "/var/folders/js/_k136j9d7gg6wnt5qljgw61r0000gq/T/ipykernel_4347/4186579624.py:2: UserWarning: To copy construct from a tensor, it is recommended to use sourceTensor.detach().clone() or sourceTensor.detach().clone().requires_grad_(True), rather than torch.tensor(sourceTensor).\n",
            "  t_u = torch.tensor(t_u).unsqueeze(1)\n"
          ]
        },
        {
          "data": {
            "text/plain": [
              "(torch.Size([11, 1]), torch.Size([11, 1]))"
            ]
          },
          "execution_count": 50,
          "metadata": {},
          "output_type": "execute_result"
        }
      ],
      "source": [
        "t_c = torch.tensor(t_c).unsqueeze(1)\n",
        "t_u = torch.tensor(t_u).unsqueeze(1) \n",
        "\n",
        "t_c.shape, t_u.shape"
      ]
    },
    {
      "cell_type": "markdown",
      "metadata": {
        "id": "Im5Vx7yE1uMV"
      },
      "source": [
        "# Nonmalization"
      ]
    },
    {
      "cell_type": "code",
      "execution_count": 51,
      "metadata": {
        "id": "TPjAtsC1Vf7Y"
      },
      "outputs": [],
      "source": [
        "normalization_factor = 0.1"
      ]
    },
    {
      "cell_type": "code",
      "execution_count": 52,
      "metadata": {
        "id": "zJx2r6a01tia"
      },
      "outputs": [],
      "source": [
        "t_u *= normalization_factor\n",
        "t_c *= normalization_factor"
      ]
    },
    {
      "cell_type": "markdown",
      "metadata": {
        "id": "xa0maoSewF91"
      },
      "source": [
        "# Model - Using nn.Linear\n",
        "Simple linear model  \n",
        "$y = w \\times x + b$\n",
        "\n",
        "\n"
      ]
    },
    {
      "cell_type": "code",
      "execution_count": 53,
      "metadata": {},
      "outputs": [],
      "source": [
        "import torch.nn as nn\n",
        "model = nn.Linear(1, 1)"
      ]
    },
    {
      "cell_type": "markdown",
      "metadata": {
        "id": "J_nDYYi1yS5y"
      },
      "source": [
        "# Loss Function - torch.nn.MSELoss\n",
        "\n",
        "\n",
        "$$\n",
        "L(yp,y)=\\frac{1}{N}\\sum_{i=1}^{N}\\Big(yp^{(i)}-y^{(i)}\\Big)^2\n",
        "$$\n",
        "\n",
        "&emsp;&emsp;&emsp;yp : Predicted values.<br>\n",
        "&emsp;&emsp;&emsp;y  : Acutal Values.\n",
        "\n",
        "\n"
      ]
    },
    {
      "cell_type": "code",
      "execution_count": 54,
      "metadata": {
        "id": "F_vXThugfwkM"
      },
      "outputs": [],
      "source": [
        "import torch.nn as nn\n",
        "loss_fn = nn.MSELoss()"
      ]
    },
    {
      "cell_type": "markdown",
      "metadata": {
        "id": "n6q7OppWyvAM"
      },
      "source": [
        "# Backword Propogation Gradients - using torch.optim.SGD\n",
        "\n",
        "Using pytorch SGD optimizer to perform backword propagation and paramert updations.\n"
      ]
    },
    {
      "cell_type": "code",
      "execution_count": 55,
      "metadata": {
        "id": "2oeICnciLfLT"
      },
      "outputs": [],
      "source": [
        "import torch.optim as optim\n",
        "learning_rate = 1e-2\n",
        "optimizer = optim.SGD(model.parameters(), lr=learning_rate)"
      ]
    },
    {
      "cell_type": "markdown",
      "metadata": {
        "id": "k5rVyoin8fZW"
      },
      "source": [
        "# Gradient Descent Training Loop (with Autograd)\n",
        "\n",
        "- **Loop steps per epoch:**\n",
        "  1. Forward: $yp = w\\,x + b$\n",
        "  2. Compute $L$ (MSE)\n",
        "  3. Optimizer Compute gradients and Update $w,b$ with learning rate $\\eta$\n",
        "  5. Track $L$ over epochs\n",
        "\n",
        "- **Expected behavior:** Loss generally decreases\n"
      ]
    },
    {
      "cell_type": "code",
      "execution_count": 56,
      "metadata": {
        "id": "ODMBboHVfwkM"
      },
      "outputs": [],
      "source": [
        "def training_loop(n_epochs, optimizer, model, loss_fn, x, y, print_params=True):\n",
        "    for epoch in range(1, n_epochs + 1):\n",
        "        y_pred = model(x)\n",
        "        loss = loss_fn(y_pred, y)\n",
        "\n",
        "        optimizer.zero_grad()\n",
        "        loss.backward()\n",
        "        optimizer.step()\n",
        "\n",
        "\n",
        "        if epoch in {1, 2, 3, 10, 11, 99, 100, 4000, 5000}:\n",
        "            print('Epoch %d, Loss %f' % (epoch, float(loss)))\n",
        "            if print_params:\n",
        "                params = list(model.named_parameters())\n",
        "                print('    Params:', params)\n",
        "        if epoch in {4, 12, 101}:\n",
        "            print('...')\n",
        "\n",
        "        if not torch.isfinite(loss).all():\n",
        "            break\n",
        "\n",
        "    return params"
      ]
    },
    {
      "cell_type": "code",
      "execution_count": 57,
      "metadata": {
        "colab": {
          "base_uri": "https://localhost:8080/"
        },
        "id": "WPs5CFVkfwkN",
        "outputId": "a8229f96-8550-4244-a737-0d88bea110ae"
      },
      "outputs": [
        {
          "name": "stdout",
          "output_type": "stream",
          "text": [
            "Epoch 1, Loss 0.345554\n",
            "    Params: [('weight', Parameter containing:\n",
            "tensor([[0.2043]], requires_grad=True)), ('bias', Parameter containing:\n",
            "tensor([0.1642], requires_grad=True))]\n",
            "Epoch 2, Loss 0.343718\n",
            "    Params: [('weight', Parameter containing:\n",
            "tensor([[0.2035]], requires_grad=True)), ('bias', Parameter containing:\n",
            "tensor([0.1608], requires_grad=True))]\n",
            "Epoch 3, Loss 0.342532\n",
            "    Params: [('weight', Parameter containing:\n",
            "tensor([[0.2036]], requires_grad=True)), ('bias', Parameter containing:\n",
            "tensor([0.1574], requires_grad=True))]\n",
            "...\n",
            "Epoch 10, Loss 0.335143\n",
            "    Params: [('weight', Parameter containing:\n",
            "tensor([[0.2072]], requires_grad=True)), ('bias', Parameter containing:\n",
            "tensor([0.1351], requires_grad=True))]\n",
            "Epoch 11, Loss 0.334104\n",
            "    Params: [('weight', Parameter containing:\n",
            "tensor([[0.2078]], requires_grad=True)), ('bias', Parameter containing:\n",
            "tensor([0.1319], requires_grad=True))]\n",
            "...\n",
            "Epoch 99, Loss 0.255271\n",
            "    Params: [('weight', Parameter containing:\n",
            "tensor([[0.2535]], requires_grad=True)), ('bias', Parameter containing:\n",
            "tensor([-0.1269], requires_grad=True))]\n",
            "Epoch 100, Loss 0.254504\n",
            "    Params: [('weight', Parameter containing:\n",
            "tensor([[0.2540]], requires_grad=True)), ('bias', Parameter containing:\n",
            "tensor([-0.1296], requires_grad=True))]\n",
            "...\n",
            "Epoch 4000, Loss 0.029277\n",
            "    Params: [('weight', Parameter containing:\n",
            "tensor([[0.5364]], requires_grad=True)), ('bias', Parameter containing:\n",
            "tensor([-1.7284], requires_grad=True))]\n",
            "Epoch 5000, Loss 0.029276\n",
            "    Params: [('weight', Parameter containing:\n",
            "tensor([[0.5367]], requires_grad=True)), ('bias', Parameter containing:\n",
            "tensor([-1.7301], requires_grad=True))]\n",
            "Learned parameters: [Parameter containing:\n",
            "tensor([[0.5367]], requires_grad=True), Parameter containing:\n",
            "tensor([-1.7301], requires_grad=True)]\n"
          ]
        }
      ],
      "source": [
        "training_loop(\n",
        "    n_epochs = 5000,\n",
        "    optimizer = optimizer,\n",
        "    model = model,\n",
        "    loss_fn = loss_fn,\n",
        "    x = t_u,\n",
        "    y = t_c)\n",
        "\n",
        "params = list(model.parameters())\n",
        "print('Learned parameters:', params)"
      ]
    },
    {
      "cell_type": "markdown",
      "metadata": {
        "id": "qS1KELvMWMEs"
      },
      "source": [
        "# Scaling both $X$ and $Y$ by $s$ — effect on $w$ and $b$ (example: $s=0.1$)\n",
        "\n",
        "**Original variables and model**\n",
        "- Input: $X$\n",
        "- Target: $Y$\n",
        "- True model: $Y = aX + b$\n",
        "\n",
        "**Scaled variables (with $s=0.1$ as an example)**\n",
        "- $x = sX$\n",
        "- $y = sY$\n",
        "\n",
        "**Training in scaled space**\n",
        "$$\n",
        "y = wx + b_{\\text{scaled}}.\n",
        "$$\n",
        "\n",
        "**Substitute back to original units** (since $y=sY$ and $x=sX$)\n",
        "$$\n",
        "sY = w(sX) + b_{\\text{scaled}}\n",
        "\\Rightarrow\n",
        "Y = wX + \\frac{b_{\\text{scaled}}}{s}.\n",
        "$$\n",
        "\n",
        "**Key result (when input *and* target are both scaled by the same $s$)**\n",
        "- Slope: $w_{\\text{original}} = w_{\\text{scaled}}$  *(unchanged)*\n",
        "- Intercept: $b_{\\text{original}} = \\frac{b_{\\text{scaled}}}{s}$\n",
        "\n",
        "---\n",
        "\n",
        "## Mapping learned parameters back to original units (example $s=0.1$)\n",
        "If training on $(x, y)$ yields $(w_{\\text{learn}}, b_{\\text{learn}})$, then\n",
        "$$\n",
        "w_{\\text{orig}} = w_{\\text{learn}}, \\qquad\n",
        "b_{\\text{orig}} = \\frac{b_{\\text{learn}}}{s} \\;=\\; 10\\,b_{\\text{learn}}.\n",
        "$$\n",
        "\n",
        "---\n",
        "\n",
        "## Cheat sheet\n",
        "\n",
        "| What you scaled                     | Training model     | Map **back** to original units |\n",
        "|---|---|---|\n",
        "| Input only: $x=sX$                 | $Y = wx + b$       | $w_{\\text{orig}} = ws,\\; b_{\\text{orig}} = b$ |\n",
        "| Target only: $y=sY$                | $y = wX + b$       | $w_{\\text{orig}} = \\frac{w}{s},\\; b_{\\text{orig}} = \\frac{b}{s}$ |\n",
        "| Input & Target: $x=sX,\\; y=sY$     | $y = wx + b$       | $w_{\\text{orig}} = w,\\; b_{\\text{orig}} = \\frac{b}{s}$ ✅ |\n",
        "\n",
        "\n",
        "so the final Params b need be scaled, after scaling the value should be close to\n",
        "\n",
        "$C = 0.5555556 * F − 17.777778$\n"
      ]
    },
    {
      "cell_type": "code",
      "execution_count": 58,
      "metadata": {
        "colab": {
          "base_uri": "https://localhost:8080/"
        },
        "id": "j4OeoSUiWN2X",
        "outputId": "d5adfc03-2454-428c-d34f-cd54b366cfaa"
      },
      "outputs": [
        {
          "data": {
            "text/plain": [
              "(Parameter containing:\n",
              " tensor([[0.5367]], requires_grad=True),\n",
              " tensor([-17.3009], grad_fn=<DivBackward0>))"
            ]
          },
          "execution_count": 58,
          "metadata": {},
          "output_type": "execute_result"
        }
      ],
      "source": [
        "w = params[0]\n",
        "b = params[1] / normalization_factor\n",
        "w, b"
      ]
    },
    {
      "cell_type": "markdown",
      "metadata": {
        "id": "Kfle63IPzNye"
      },
      "source": [
        "# Output"
      ]
    },
    {
      "cell_type": "code",
      "execution_count": 59,
      "metadata": {
        "colab": {
          "base_uri": "https://localhost:8080/",
          "height": 449
        },
        "id": "PIleS1YwfwkN",
        "outputId": "dad78892-f860-4600-df4e-237f702dd401"
      },
      "outputs": [
        {
          "data": {
            "image/png": "[encoded data removed]",
            "text/plain": [
              "<Figure size 640x480 with 1 Axes>"
            ]
          },
          "metadata": {},
          "output_type": "display_data"
        }
      ],
      "source": [
        "t_p = model(t_u)\n",
        "\n",
        "#scale back\n",
        "t_u /= normalization_factor\n",
        "t_p /= normalization_factor\n",
        "t_c /= normalization_factor\n",
        "\n",
        "fig = plt.figure(dpi=100)\n",
        "plt.grid(True)\n",
        "plt.xlabel(\"Temperature (°Fahrenheit)\")\n",
        "plt.ylabel(\"Temperature (°Celsius)\")\n",
        "plt.plot(t_u.numpy(), t_p.detach().numpy())\n",
        "plt.plot(t_u.numpy(), t_c.numpy(), 'o')\n",
        "plt.show()"
      ]
    },
    {
      "cell_type": "code",
      "execution_count": null,
      "metadata": {
        "id": "R-Mf9UKFMaMd"
      },
      "outputs": [],
      "source": []
    }
  ],
  "metadata": {
    "colab": {
      "provenance": []
    },
    "kernelspec": {
      "display_name": "PyTorch",
      "language": "python",
      "name": "python3"
    },
    "language_info": {
      "codemirror_mode": {
        "name": "ipython",
        "version": 3
      },
      "file_extension": ".py",
      "mimetype": "text/x-python",
      "name": "python",
      "nbconvert_exporter": "python",
      "pygments_lexer": "ipython3",
      "version": "3.12.12"
    }
  },
  "nbformat": 4,
  "nbformat_minor": 0
}
