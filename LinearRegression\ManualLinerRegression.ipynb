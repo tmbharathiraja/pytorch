{
  "cells": [
    {
      "cell_type": "markdown",
      "metadata": {
        "id": "view-in-github",
        "colab_type": "text"
      },
      "source": [
        "<a href=\"https://colab.research.google.com/github/tmbharathiraja/pytorch/blob/main/LinearRegression%5CManualLinerRegression.ipynb\" target=\"_parent\"><img src=\"https://colab.research.google.com/assets/colab-badge.svg\" alt=\"Open In Colab\"/></a>"
      ]
    },
    {
      "cell_type": "markdown",
      "source": [
        "# Problem : Linear Calibration (Thermometer)\n",
        "\n",
        "- **Task:** Map “unknown-scale” readings $t_u$ to true Celsius $t_c$ using a linear model.\n",
        "\n",
        "$$\n",
        "t_p = w\\, t_u + b\n",
        "$$\n",
        "\n",
        "- **Interpretation:**\n",
        "  - $w$: gain/scale (stretch/squeeze)\n",
        "  - $b$: offset/bias (systematic shift)\n",
        "- **Why linear?** Sensors are often approximately affine over normal ranges.\n",
        "- **Goal:** Find $w,b$ that make predictions $t_p$ close to targets $t_c$ using mnnaually coded loss, gradient functions.\n"
      ],
      "metadata": {
        "id": "LXc0VGj8uEdk"
      }
    },
    {
      "cell_type": "markdown",
      "source": [
        "# Imports"
      ],
      "metadata": {
        "id": "MJQBUHWhuB8T"
      }
    },
    {
      "cell_type": "code",
      "source": [
        "import sys\n",
        "import torch\n",
        "import numpy as np\n",
        "import matplotlib.pyplot as plt\n",
        "\n",
        "print(sys.version)\n",
        "print(torch.__version__)\n",
        "print(np.__version__)"
      ],
      "metadata": {
        "colab": {
          "base_uri": "https://localhost:8080/"
        },
        "id": "PEcqf3lrtnMq",
        "outputId": "e19928b8-a65e-41e7-e324-b370c5cf5fc9"
      },
      "execution_count": null,
      "outputs": [
        {
          "output_type": "stream",
          "name": "stdout",
          "text": [
            "3.12.12 (main, Oct 10 2025, 08:52:57) [GCC 11.4.0]\n",
            "2.8.0+cu126\n",
            "2.0.2\n"
          ]
        }
      ]
    },
    {
      "cell_type": "markdown",
      "source": [
        "# Dataset"
      ],
      "metadata": {
        "id": "sxfQeUw-t_IB"
      }
    },
    {
      "cell_type": "code",
      "execution_count": null,
      "metadata": {
        "id": "AAoCUTQ5fwkL",
        "colab": {
          "base_uri": "https://localhost:8080/",
          "height": 449
        },
        "outputId": "a89f6203-3936-4fe3-c5c5-6e087691717b"
      },
      "outputs": [
        {
          "output_type": "display_data",
          "data": {
            "text/plain": [
              "<Figure size 640x480 with 1 Axes>"
            ],
            "image/png": "[encoded data removed]"
          },
          "metadata": {}
        }
      ],
      "source": [
        "t_c = torch.tensor([0.5, 14.0, 15.0, 28.0, 11.0,\n",
        "                    8.0, 3.0, -4.0, 6.0, 13.0, 21.0])\n",
        "t_u = torch.tensor([35.7, 55.9, 58.2, 81.9, 56.3, 48.9,\n",
        "                    33.9, 21.8, 48.4, 60.4, 68.4])\n",
        "\n",
        "plt.grid(True)\n",
        "plt.plot(t_u.numpy(), t_c.numpy(), 'o', color='red')\n",
        "plt.xlabel('Temperature (Unknown Units)')\n",
        "plt.ylabel('Temperature (°Celsius)')\n",
        "plt.show()"
      ]
    },
    {
      "cell_type": "markdown",
      "source": [
        "# Nonmalization"
      ],
      "metadata": {
        "id": "Im5Vx7yE1uMV"
      }
    },
    {
      "cell_type": "code",
      "source": [
        "t_u = 0.1 * t_u\n",
        "t_c = 0.1 * t_c"
      ],
      "metadata": {
        "id": "zJx2r6a01tia"
      },
      "execution_count": null,
      "outputs": []
    },
    {
      "cell_type": "markdown",
      "source": [
        "# Model\n",
        "Simple linear model  \n",
        "$t_c = w \\times t_u + b$\n",
        "\n",
        "\n"
      ],
      "metadata": {
        "id": "xa0maoSewF91"
      }
    },
    {
      "cell_type": "code",
      "execution_count": null,
      "metadata": {
        "id": "1Mp3dKmIfwkM"
      },
      "outputs": [],
      "source": [
        "def model(x, w, b):\n",
        "    return w * x + b"
      ]
    },
    {
      "cell_type": "markdown",
      "source": [
        "# Loss Function - Mean Squared Error\n",
        "\n",
        "\n",
        "$$\n",
        "L(yp,y)=\\frac{1}{N}\\sum_{i=1}^{N}\\Big(yp^{(i)}-y^{(i)}\\Big)^2\n",
        "$$\n",
        "\n",
        "&emsp;&emsp;&emsp;yp : Predicted values.<br>\n",
        "&emsp;&emsp;&emsp;y  : Acutal Values.\n",
        "\n",
        "- **Intuition:** One scalar measures fit quality (smaller is better). Squaring emphasizes large errors and keeps derivatives smooth.\n",
        "- **Sanity checks:** Evaluate loss for multiple $(w,b)$ guesses to confirm expected behavior.\n"
      ],
      "metadata": {
        "id": "J_nDYYi1yS5y"
      }
    },
    {
      "cell_type": "code",
      "execution_count": null,
      "metadata": {
        "id": "F_vXThugfwkM"
      },
      "outputs": [],
      "source": [
        "def loss_fn(yp, y):\n",
        "    squared_diffs = (yp - y)**2\n",
        "    return squared_diffs.mean()"
      ]
    },
    {
      "cell_type": "markdown",
      "source": [
        "# Backword Propogation Gradients\n",
        "\n",
        "\n",
        "- **Idea:** Approximate sensitivity of the loss with tiny nudges $\\delta$ (central differences):\n",
        "\n",
        "$$\n",
        "\\frac{\\partial L}{\\partial w}\\approx\\frac{L(w+\\delta,b)-L(w-\\delta,b)}{2\\delta},\\quad\n",
        "\\frac{\\partial L}{\\partial b}\\approx\\frac{L(w,b+\\delta)-L(w,b-\\delta)}{2\\delta}\n",
        "$$\n",
        "\n",
        "- **Pros:** Simple, model-agnostic, great for gradient debugging.\n",
        "- **Cons:** Extra loss evaluations; $\\delta$ must be chosen carefully (too big → bias; too small → floating-point noise).\n"
      ],
      "metadata": {
        "id": "n6q7OppWyvAM"
      }
    },
    {
      "cell_type": "code",
      "source": [
        "def dmodel_dw(x, w, b):\n",
        "    return x"
      ],
      "metadata": {
        "id": "7hmkUuCkwVFE"
      },
      "execution_count": null,
      "outputs": []
    },
    {
      "cell_type": "code",
      "source": [
        "def dmodel_db(x, w, b):\n",
        "    return 1.0"
      ],
      "metadata": {
        "id": "Iq_157tiwZPe"
      },
      "execution_count": null,
      "outputs": []
    },
    {
      "cell_type": "markdown",
      "source": [
        "# Analytical Gradients\n",
        "\n",
        "**Model & variables used in code**\n",
        "- Prediction: **`yp = w * x + b`**\n",
        "- Target: **`y`**\n",
        "- Residual (error): **`e = yp - y`**\n",
        "- Loss (MSE, mean reduction):  \n",
        "  $$\n",
        "  L \\;=\\; \\frac{1}{N}\\sum_{i=1}^{N}(yp^{(i)} - y^{(i)})^2 \\;\n",
        "  $$\n",
        "\n",
        "**Gradient wrt predictions (matches `dloss_fn`)**\n",
        "- Using MSE with **mean**:\n",
        "  $$\n",
        "  \\frac{\\partial L}{\\partial yp} \\;=\\; \\frac{2}{N}\\sum_{i=1}^{N}(yp^{(i)}- y^{(i)}) \\;\n",
        "  $$\n"
      ],
      "metadata": {
        "id": "YGo_HYde7zqS"
      }
    },
    {
      "cell_type": "code",
      "source": [
        "def dloss_fn(yp, y):\n",
        "    dsq_diffs = 2 * (yp - y) / yp.size(0)\n",
        "    return dsq_diffs"
      ],
      "metadata": {
        "id": "ZvXBzxI-wNBI"
      },
      "execution_count": null,
      "outputs": []
    },
    {
      "cell_type": "code",
      "source": [
        "def grad_fn(x, y, yp, w, b):\n",
        "    dloss_dtp = dloss_fn(yp, y)\n",
        "    dloss_dw = dloss_dtp * dmodel_dw(x, w, b)\n",
        "    dloss_db = dloss_dtp * dmodel_db(x, w, b)\n",
        "    return torch.stack([dloss_dw.sum(), dloss_db.sum()])"
      ],
      "metadata": {
        "id": "nEvZzVmB05-b"
      },
      "execution_count": null,
      "outputs": []
    },
    {
      "cell_type": "markdown",
      "source": [
        "# Manual Gradient Descent Training Loop (No Autograd)\n",
        "\n",
        "- **Update rule:**\n",
        "\n",
        "$$\n",
        "w \\leftarrow w - \\eta\\,\\frac{\\partial L}{\\partial w},\\qquad\n",
        "b \\leftarrow b - \\eta\\,\\frac{\\partial L}{\\partial b}\n",
        "$$\n",
        "\n",
        "- **Loop steps per epoch:**\n",
        "  1. Forward: $yp = w\\,x + b$\n",
        "  2. Compute $L$ (MSE)\n",
        "  3. Compute gradients (analytical)\n",
        "  4. Update $w,b$ with learning rate $\\eta$\n",
        "  5. Track $L$ over epochs\n",
        "\n",
        "- **Expected behavior:** Loss generally decreases; use plots to diagnose issues.\n"
      ],
      "metadata": {
        "id": "k5rVyoin8fZW"
      }
    },
    {
      "cell_type": "code",
      "execution_count": null,
      "metadata": {
        "id": "ODMBboHVfwkM"
      },
      "outputs": [],
      "source": [
        "def training_loop(n_epochs, learning_rate, params, x, y,\n",
        "                  print_params=True):\n",
        "    for epoch in range(1, n_epochs + 1):\n",
        "        w, b = params\n",
        "\n",
        "        yp = model(x, w, b)\n",
        "        loss = loss_fn(yp, y)\n",
        "        grad = grad_fn(x, y, yp, w, b)\n",
        "\n",
        "        params = params - learning_rate * grad\n",
        "\n",
        "        if epoch in {1, 2, 3, 10, 11, 99, 100, 4000, 5000}:\n",
        "            print('Epoch %d, Loss %f' % (epoch, float(loss)))\n",
        "            if print_params:\n",
        "                print('    Params:', params)\n",
        "                print('    Grad:  ', grad)\n",
        "        if epoch in {4, 12, 101}:\n",
        "            print('...')\n",
        "\n",
        "        if not torch.isfinite(loss).all():\n",
        "            break  # <3>\n",
        "\n",
        "    return params"
      ]
    },
    {
      "cell_type": "code",
      "execution_count": null,
      "metadata": {
        "id": "WPs5CFVkfwkN",
        "colab": {
          "base_uri": "https://localhost:8080/"
        },
        "outputId": "677da66f-f565-425e-dbd3-4d87b1fd769b"
      },
      "outputs": [
        {
          "output_type": "stream",
          "name": "stdout",
          "text": [
            "Epoch 1, Loss 17.638847\n",
            "Epoch 2, Loss 2.944970\n",
            "Epoch 3, Loss 0.668645\n",
            "...\n",
            "Epoch 10, Loss 0.246408\n",
            "Epoch 11, Loss 0.245671\n",
            "...\n",
            "Epoch 99, Loss 0.189708\n",
            "Epoch 100, Loss 0.189163\n",
            "...\n",
            "Epoch 4000, Loss 0.029277\n",
            "Epoch 5000, Loss 0.029276\n"
          ]
        }
      ],
      "source": [
        "params = training_loop(\n",
        "    n_epochs = 5000,\n",
        "    learning_rate = 1e-2,\n",
        "    params = torch.tensor([1.0, 0.0]),\n",
        "    x = t_u,\n",
        "    y = t_c,\n",
        "    print_params = False)\n"
      ]
    },
    {
      "cell_type": "markdown",
      "source": [
        "# Output"
      ],
      "metadata": {
        "id": "Kfle63IPzNye"
      }
    },
    {
      "cell_type": "code",
      "execution_count": null,
      "metadata": {
        "id": "PIleS1YwfwkN",
        "outputId": "7ed408c4-d251-415f-928a-c7b30cd8582f",
        "colab": {
          "base_uri": "https://localhost:8080/",
          "height": 449
        }
      },
      "outputs": [
        {
          "output_type": "display_data",
          "data": {
            "text/plain": [
              "<Figure size 640x480 with 1 Axes>"
            ],
            "image/png": "[encoded data removed]"
          },
          "metadata": {}
        }
      ],
      "source": [
        "t_p = model(t_u, *params)\n",
        "\n",
        "#scale back\n",
        "t_u *= 10\n",
        "t_p *= 10\n",
        "t_c *= 10\n",
        "\n",
        "fig = plt.figure(dpi=100)\n",
        "plt.grid(True)\n",
        "plt.xlabel(\"Temperature (°Fahrenheit)\")\n",
        "plt.ylabel(\"Temperature (°Celsius)\")\n",
        "plt.plot(t_u.numpy(), t_p.detach().numpy())\n",
        "plt.plot(t_u.numpy(), t_c.numpy(), 'o')\n",
        "plt.savefig(\"temp_unknown_plot.png\", format=\"png\")"
      ]
    }
  ],
  "metadata": {
    "kernelspec": {
      "display_name": "Python 3",
      "language": "python",
      "name": "python3"
    },
    "language_info": {
      "codemirror_mode": {
        "name": "ipython",
        "version": 3
      },
      "file_extension": ".py",
      "mimetype": "text/x-python",
      "name": "python",
      "nbconvert_exporter": "python",
      "pygments_lexer": "ipython3",
      "version": "3.7.6"
    },
    "colab": {
      "provenance": [],
      "include_colab_link": true
    }
  },
  "nbformat": 4,
  "nbformat_minor": 0
}