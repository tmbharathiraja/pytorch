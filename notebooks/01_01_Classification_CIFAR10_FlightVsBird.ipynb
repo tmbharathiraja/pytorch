{
  "cells": [
    {
      "cell_type": "markdown",
      "metadata": {
        "id": "view-in-github",
        "colab_type": "text"
      },
      "source": [
        "<a href=\"https://colab.research.google.com/github/tmbharathiraja/pytorch/blob/main/notebooks/01_01_Classification_CIFAR10_FlightVsBird.ipynb\" target=\"_parent\"><img src=\"https://colab.research.google.com/assets/colab-badge.svg\" alt=\"Open In Colab\"/></a>"
      ]
    },
    {
      "cell_type": "code",
      "execution_count": 35,
      "id": "ae0669d4",
      "metadata": {
        "colab": {
          "base_uri": "https://localhost:8080/"
        },
        "id": "ae0669d4",
        "outputId": "aa7ecfec-1e9e-49ee-fa52-9164acf542fb"
      },
      "outputs": [
        {
          "output_type": "stream",
          "name": "stdout",
          "text": [
            "2.8.0+cu126\n",
            "0.23.0+cu126\n",
            "2.0.2\n"
          ]
        }
      ],
      "source": [
        "import torch as t\n",
        "import torch.nn as nn\n",
        "import torch.nn.functional as F\n",
        "from torchvision import datasets, transforms, __version__ as tv_version\n",
        "import numpy as np\n",
        "import os\n",
        "import datetime\n",
        "\n",
        "import matplotlib.pyplot as plt\n",
        "\n",
        "print(t.__version__)\n",
        "print(tv_version)\n",
        "print(np.__version__)"
      ]
    },
    {
      "cell_type": "markdown",
      "source": [
        "# Gdrive"
      ],
      "metadata": {
        "id": "eHi5qSklrdDh"
      },
      "id": "eHi5qSklrdDh"
    },
    {
      "cell_type": "code",
      "source": [
        "try:\n",
        "    import google.colab as colab\n",
        "    IS_COLAB = True\n",
        "    print(\"Running in Google Colab\")\n",
        "except ImportError:\n",
        "    IS_COLAB = False\n",
        "    print(\"Not running in Google Colab\")\n",
        "\n",
        "\n",
        "if IS_COLAB:\n",
        "    colab.drive.mount(\"/content/gdrive\")\n",
        "    os.chdir('/content/gdrive/MyDrive/Colab Notebooks/Pytorch-DeepLearningBook/dlwpt-code-master/data/dummy')\n",
        "    os.getcwd()"
      ],
      "metadata": {
        "colab": {
          "base_uri": "https://localhost:8080/"
        },
        "id": "NyF4phtqqcd8",
        "outputId": "bc4adae2-1c5d-432b-dd21-26640a6fbd2a"
      },
      "id": "NyF4phtqqcd8",
      "execution_count": 22,
      "outputs": [
        {
          "output_type": "stream",
          "name": "stdout",
          "text": [
            "Running in Google Colab\n",
            "Mounted at /content/gdrive\n"
          ]
        }
      ]
    },
    {
      "cell_type": "markdown",
      "source": [
        "# Data"
      ],
      "metadata": {
        "id": "hQaNgpUBrgXb"
      },
      "id": "hQaNgpUBrgXb"
    },
    {
      "cell_type": "code",
      "execution_count": 23,
      "id": "e75f5ede",
      "metadata": {
        "id": "e75f5ede"
      },
      "outputs": [],
      "source": [
        "from torchvision import datasets, transforms\n",
        "data_path = '../data-unversioned/p1ch7/'\n",
        "cifar10 = datasets.CIFAR10(\n",
        "    data_path, train=True, download=False,\n",
        "    transform=transforms.Compose([\n",
        "        transforms.ToTensor(),\n",
        "        transforms.Normalize((0.4915, 0.4823, 0.4468),\n",
        "                             (0.2470, 0.2435, 0.2616))\n",
        "    ]))"
      ]
    },
    {
      "cell_type": "code",
      "source": [
        "cifar10_val = datasets.CIFAR10(\n",
        "    data_path, train=False, download=True,\n",
        "    transform=transforms.Compose([\n",
        "        transforms.ToTensor(),\n",
        "        transforms.Normalize((0.4915, 0.4823, 0.4468),\n",
        "                             (0.2470, 0.2435, 0.2616))\n",
        "    ]))"
      ],
      "metadata": {
        "id": "DpHw6PC-p0oe"
      },
      "id": "DpHw6PC-p0oe",
      "execution_count": 24,
      "outputs": []
    },
    {
      "cell_type": "code",
      "source": [
        "label_map = {0: 0, 2: 1}\n",
        "class_names = ['airplane', 'bird']\n",
        "cifar2 = [(img, label_map[label])\n",
        "          for img, label in cifar10\n",
        "          if label in [0, 2]]\n",
        "cifar2_val = [(img, label_map[label])\n",
        "              for img, label in cifar10_val\n",
        "              if label in [0, 2]]"
      ],
      "metadata": {
        "id": "s4d9gG_oruSW"
      },
      "id": "s4d9gG_oruSW",
      "execution_count": 25,
      "outputs": []
    },
    {
      "cell_type": "code",
      "source": [
        "print(f\"{len(cifar2) = }, {len(cifar2_val) =}\")"
      ],
      "metadata": {
        "colab": {
          "base_uri": "https://localhost:8080/"
        },
        "id": "_tt6TmpFs5Gq",
        "outputId": "04d3b4e5-c604-4be8-ac84-87673b78f519"
      },
      "id": "_tt6TmpFs5Gq",
      "execution_count": 26,
      "outputs": [
        {
          "output_type": "stream",
          "name": "stdout",
          "text": [
            "len(cifar2) = 10000, len(cifar2_val) =2000\n"
          ]
        }
      ]
    },
    {
      "cell_type": "code",
      "source": [
        "fig, axes = plt.subplots(1, 5, figsize=(15, 3), constrained_layout=True)\n",
        "for ax, (img, label) in zip(axes, cifar2[:10]):\n",
        "  ax.imshow(img.permute(1, 2, 0))\n",
        "plt.show()"
      ],
      "metadata": {
        "colab": {
          "base_uri": "https://localhost:8080/",
          "height": 415
        },
        "id": "TYqmGqpstKV0",
        "outputId": "7b90387c-2d92-4c80-8b17-0ff298276201"
      },
      "id": "TYqmGqpstKV0",
      "execution_count": 27,
      "outputs": [
        {
          "output_type": "stream",
          "name": "stderr",
          "text": [
            "WARNING:matplotlib.image:Clipping input data to the valid range for imshow with RGB data ([0..1] for floats or [0..255] for integers). Got range [-1.8628641..2.029448].\n",
            "WARNING:matplotlib.image:Clipping input data to the valid range for imshow with RGB data ([0..1] for floats or [0..255] for integers). Got range [-1.9806982..1.9497813].\n",
            "WARNING:matplotlib.image:Clipping input data to the valid range for imshow with RGB data ([0..1] for floats or [0..255] for integers). Got range [-1.5780731..1.7570454].\n",
            "WARNING:matplotlib.image:Clipping input data to the valid range for imshow with RGB data ([0..1] for floats or [0..255] for integers). Got range [-1.9104946..2.0097442].\n",
            "WARNING:matplotlib.image:Clipping input data to the valid range for imshow with RGB data ([0..1] for floats or [0..255] for integers). Got range [-1.9484882..2.1099732].\n"
          ]
        },
        {
          "output_type": "display_data",
          "data": {
            "text/plain": [
              "<Figure size 1500x300 with 5 Axes>"
            ],
            "image/png": "[encoded data removed]"
          },
          "metadata": {}
        }
      ]
    },
    {
      "cell_type": "code",
      "source": [
        "fig, axes = plt.subplots(1, 5, figsize=(15, 3), constrained_layout=True)\n",
        "for ax, (img, label) in zip(axes, cifar2_val[:10]):\n",
        "  ax.imshow(img.permute(1, 2, 0))\n",
        "plt.show()"
      ],
      "metadata": {
        "colab": {
          "base_uri": "https://localhost:8080/",
          "height": 415
        },
        "id": "rFU1rS5utOkY",
        "outputId": "10cb820e-3e18-42df-c8e3-94f0f5e851d3"
      },
      "id": "rFU1rS5utOkY",
      "execution_count": 28,
      "outputs": [
        {
          "output_type": "stream",
          "name": "stderr",
          "text": [
            "WARNING:matplotlib.image:Clipping input data to the valid range for imshow with RGB data ([0..1] for floats or [0..255] for integers). Got range [-1.449233..1.7998742].\n",
            "WARNING:matplotlib.image:Clipping input data to the valid range for imshow with RGB data ([0..1] for floats or [0..255] for integers). Got range [-1.5929587..1.4850694].\n",
            "WARNING:matplotlib.image:Clipping input data to the valid range for imshow with RGB data ([0..1] for floats or [0..255] for integers). Got range [-1.9898785..2.126078].\n",
            "WARNING:matplotlib.image:Clipping input data to the valid range for imshow with RGB data ([0..1] for floats or [0..255] for integers). Got range [-1.8196483..1.9797627].\n",
            "WARNING:matplotlib.image:Clipping input data to the valid range for imshow with RGB data ([0..1] for floats or [0..255] for integers). Got range [-1.4500674..2.126078].\n"
          ]
        },
        {
          "output_type": "display_data",
          "data": {
            "text/plain": [
              "<Figure size 1500x300 with 5 Axes>"
            ],
            "image/png": "[encoded data removed]"
          },
          "metadata": {}
        }
      ]
    },
    {
      "cell_type": "markdown",
      "source": [
        "# CNN"
      ],
      "metadata": {
        "id": "qYRBRZNO-fKG"
      },
      "id": "qYRBRZNO-fKG"
    },
    {
      "cell_type": "code",
      "source": [
        "class ResBlock(nn.Module):\n",
        "  def __init__(self, n_chans=16):\n",
        "    super(ResBlock, self).__init__()\n",
        "    self.conv = nn.Conv2d(n_chans, n_chans, kernel_size=3, padding=1, bias=False)\n",
        "    self.batch_norm = nn.BatchNorm2d(num_features=n_chans)\n",
        "    nn.init.kaiming_normal_(self.conv.weight, nonlinearity = 'relu')\n",
        "    nn.init.constant_( self.batch_norm.weight, 0.5)\n",
        "    nn.init.zeros_(self.batch_norm.bias)\n",
        "\n",
        "  def forward(self, x):\n",
        "    out = self.conv(x)\n",
        "    out = self.batch_norm(out)\n",
        "    out = t.relu(out)\n",
        "    return out + x"
      ],
      "metadata": {
        "id": "S5XxP9Neu1NY"
      },
      "id": "S5XxP9Neu1NY",
      "execution_count": 29,
      "outputs": []
    },
    {
      "cell_type": "code",
      "source": [
        "(10 * [ResBlock()])"
      ],
      "metadata": {
        "id": "rXyKYmfQB2Nq",
        "outputId": "caac5eef-0c94-43cf-94df-d2dcf33c4bad",
        "colab": {
          "base_uri": "https://localhost:8080/"
        }
      },
      "id": "rXyKYmfQB2Nq",
      "execution_count": 30,
      "outputs": [
        {
          "output_type": "execute_result",
          "data": {
            "text/plain": [
              "[ResBlock(\n",
              "   (conv): Conv2d(16, 16, kernel_size=(3, 3), stride=(1, 1), padding=(1, 1), bias=False)\n",
              "   (batch_norm): BatchNorm2d(16, eps=1e-05, momentum=0.1, affine=True, track_running_stats=True)\n",
              " ),\n",
              " ResBlock(\n",
              "   (conv): Conv2d(16, 16, kernel_size=(3, 3), stride=(1, 1), padding=(1, 1), bias=False)\n",
              "   (batch_norm): BatchNorm2d(16, eps=1e-05, momentum=0.1, affine=True, track_running_stats=True)\n",
              " ),\n",
              " ResBlock(\n",
              "   (conv): Conv2d(16, 16, kernel_size=(3, 3), stride=(1, 1), padding=(1, 1), bias=False)\n",
              "   (batch_norm): BatchNorm2d(16, eps=1e-05, momentum=0.1, affine=True, track_running_stats=True)\n",
              " ),\n",
              " ResBlock(\n",
              "   (conv): Conv2d(16, 16, kernel_size=(3, 3), stride=(1, 1), padding=(1, 1), bias=False)\n",
              "   (batch_norm): BatchNorm2d(16, eps=1e-05, momentum=0.1, affine=True, track_running_stats=True)\n",
              " ),\n",
              " ResBlock(\n",
              "   (conv): Conv2d(16, 16, kernel_size=(3, 3), stride=(1, 1), padding=(1, 1), bias=False)\n",
              "   (batch_norm): BatchNorm2d(16, eps=1e-05, momentum=0.1, affine=True, track_running_stats=True)\n",
              " ),\n",
              " ResBlock(\n",
              "   (conv): Conv2d(16, 16, kernel_size=(3, 3), stride=(1, 1), padding=(1, 1), bias=False)\n",
              "   (batch_norm): BatchNorm2d(16, eps=1e-05, momentum=0.1, affine=True, track_running_stats=True)\n",
              " ),\n",
              " ResBlock(\n",
              "   (conv): Conv2d(16, 16, kernel_size=(3, 3), stride=(1, 1), padding=(1, 1), bias=False)\n",
              "   (batch_norm): BatchNorm2d(16, eps=1e-05, momentum=0.1, affine=True, track_running_stats=True)\n",
              " ),\n",
              " ResBlock(\n",
              "   (conv): Conv2d(16, 16, kernel_size=(3, 3), stride=(1, 1), padding=(1, 1), bias=False)\n",
              "   (batch_norm): BatchNorm2d(16, eps=1e-05, momentum=0.1, affine=True, track_running_stats=True)\n",
              " ),\n",
              " ResBlock(\n",
              "   (conv): Conv2d(16, 16, kernel_size=(3, 3), stride=(1, 1), padding=(1, 1), bias=False)\n",
              "   (batch_norm): BatchNorm2d(16, eps=1e-05, momentum=0.1, affine=True, track_running_stats=True)\n",
              " ),\n",
              " ResBlock(\n",
              "   (conv): Conv2d(16, 16, kernel_size=(3, 3), stride=(1, 1), padding=(1, 1), bias=False)\n",
              "   (batch_norm): BatchNorm2d(16, eps=1e-05, momentum=0.1, affine=True, track_running_stats=True)\n",
              " )]"
            ]
          },
          "metadata": {},
          "execution_count": 30
        }
      ]
    },
    {
      "cell_type": "code",
      "source": [
        "class NetResDeep(nn.Module):\n",
        "  def __init__(self, n_chans1=32, n_blocks=10):\n",
        "    super().__init__()\n",
        "    self.n_chans1 = n_chans1\n",
        "    self.conv1 = nn.Conv2d(3, self.n_chans1, kernel_size = 3, padding = 1, bias = False)\n",
        "    self.resblocks = nn.Sequential(*(n_blocks * [ResBlock(self.n_chans1)]))\n",
        "    self.fc1 = nn.Linear(8*8*self.n_chans1, 32)\n",
        "    self.fc2 = nn.Linear(32, 2)\n",
        "\n",
        "  def forward(self, x):\n",
        "    out = F.max_pool2d(t.relu(self.conv1(x)), 2)\n",
        "    out = self.resblocks(out)\n",
        "    out = F.max_pool2d(out, 2)\n",
        "    out = out.view(-1, 8*8*self.n_chans1)\n",
        "    out = self.fc1(out)\n",
        "    out = F.relu(out)\n",
        "    out = self.fc2(out)\n",
        "    return out\n",
        "\n"
      ],
      "metadata": {
        "id": "7i54EqMdAtq2"
      },
      "id": "7i54EqMdAtq2",
      "execution_count": 33,
      "outputs": []
    },
    {
      "cell_type": "code",
      "source": [
        "model = NetResDeep()\n",
        "optim = t.optim.SGD(model.parameters(), lr=1e-2)\n",
        "loss_fn = nn.CrossEntropyLoss()"
      ],
      "metadata": {
        "id": "qHxLXv1fEB06"
      },
      "id": "qHxLXv1fEB06",
      "execution_count": 34,
      "outputs": []
    },
    {
      "cell_type": "code",
      "source": [
        "def training(n_epochs, model, optim, loss_fn, train_loader):\n",
        "  for epoch in range(1, n_epochs+1):\n",
        "    loss_train = 0.0\n",
        "\n",
        "    for imgs, labels in train_loader:\n",
        "      y_pred = model(imgs)\n",
        "      loss = loss_fn(y_pred, labels)\n",
        "\n",
        "      optim.zero_grad()\n",
        "      loss.backward()\n",
        "      optim.step()\n",
        "\n",
        "      loss_train += loss.item()\n",
        "\n",
        "    if epoch == 1 or epoch % 10 == 0:\n",
        "        print('{} Epoch {}, Training loss {}'.format(\n",
        "            datetime.datetime.now(), epoch,\n",
        "            loss_train / len(train_loader)))"
      ],
      "metadata": {
        "id": "gM6Qgp_iEGWN"
      },
      "id": "gM6Qgp_iEGWN",
      "execution_count": 43,
      "outputs": []
    },
    {
      "cell_type": "code",
      "source": [
        "train_loader = t.utils.data.DataLoader(cifar2, batch_size=64, shuffle = True)\n",
        "\n",
        "training(100, model, optim, loss_fn, train_loader)"
      ],
      "metadata": {
        "id": "sxFBeOzNFbor",
        "outputId": "aa3c3e6d-c26d-4073-e82a-ee220af60a31",
        "colab": {
          "base_uri": "https://localhost:8080/"
        }
      },
      "id": "sxFBeOzNFbor",
      "execution_count": 44,
      "outputs": [
        {
          "output_type": "stream",
          "name": "stdout",
          "text": [
            "2025-10-31 02:31:14.131293 Epoch 1, Training loss 0.32427597330634\n",
            "2025-10-31 02:38:10.076970 Epoch 10, Training loss 0.21764119012150795\n",
            "2025-10-31 02:45:43.709544 Epoch 20, Training loss 0.13071371681371313\n",
            "2025-10-31 02:53:14.482054 Epoch 30, Training loss 0.0812493957591\n",
            "2025-10-31 03:00:46.186863 Epoch 40, Training loss 0.12081224984447857\n",
            "2025-10-31 03:08:18.812511 Epoch 50, Training loss 0.03468714503550629\n",
            "2025-10-31 03:15:48.701887 Epoch 60, Training loss 0.14849683755614268\n",
            "2025-10-31 03:23:15.712584 Epoch 70, Training loss 0.11138713915067114\n",
            "2025-10-31 03:30:41.509478 Epoch 80, Training loss 0.010799508621533562\n",
            "2025-10-31 03:38:08.310757 Epoch 90, Training loss 0.0019150126316127883\n",
            "2025-10-31 03:45:37.028225 Epoch 100, Training loss 0.06617430811466139\n"
          ]
        }
      ]
    },
    {
      "cell_type": "code",
      "source": [
        "def validate(model, train_loader, val_loader):\n",
        "    accdict = {}\n",
        "    for name, loader in [(\"train\", train_loader), (\"val\", val_loader)]:\n",
        "        correct = 0\n",
        "        total = 0\n",
        "\n",
        "        with t.no_grad():\n",
        "            for imgs, labels in loader:\n",
        "                # imgs = imgs.to(device=device)\n",
        "                # labels = labels.to(device=device)\n",
        "                outputs = model(imgs)\n",
        "                _, predicted = t.max(outputs, dim=1) # <1>\n",
        "                total += labels.shape[0]\n",
        "                correct += int((predicted == labels).sum())\n",
        "\n",
        "        print(\"Accuracy {}: {:.2f}\".format(name , correct / total))\n",
        "        accdict[name] = correct / total\n",
        "    return accdict"
      ],
      "metadata": {
        "id": "psjJeQHnF7B-"
      },
      "id": "psjJeQHnF7B-",
      "execution_count": 49,
      "outputs": []
    },
    {
      "cell_type": "code",
      "source": [
        "val_loader = t.utils.data.DataLoader(cifar2_val, batch_size=64, shuffle=False)\n",
        "\n",
        "validate(model, train_loader, val_loader)"
      ],
      "metadata": {
        "id": "i7ZMwIMaJVB3",
        "outputId": "98cdaf66-17da-4a6a-e763-f94f8b1d7261",
        "colab": {
          "base_uri": "https://localhost:8080/"
        }
      },
      "id": "i7ZMwIMaJVB3",
      "execution_count": 50,
      "outputs": [
        {
          "metadata": {
            "tags": null
          },
          "name": "stdout",
          "output_type": "stream",
          "text": [
            "Accuracy train: 0.92\n",
            "Accuracy val: 0.85\n"
          ]
        },
        {
          "data": {
            "text/plain": [
              "{'train': 0.9163, 'val': 0.8545}"
            ]
          },
          "execution_count": 50,
          "metadata": {},
          "output_type": "execute_result"
        }
      ]
    },
    {
      "cell_type": "code",
      "source": [],
      "metadata": {
        "id": "463iUqHqutD8"
      },
      "id": "463iUqHqutD8",
      "execution_count": null,
      "outputs": []
    }
  ],
  "metadata": {
    "kernelspec": {
      "display_name": "PyTorch",
      "language": "python",
      "name": "python3"
    },
    "language_info": {
      "codemirror_mode": {
        "name": "ipython",
        "version": 3
      },
      "file_extension": ".py",
      "mimetype": "text/x-python",
      "name": "python",
      "nbconvert_exporter": "python",
      "pygments_lexer": "ipython3",
      "version": "3.12.12"
    },
    "colab": {
      "provenance": [],
      "include_colab_link": true
    }
  },
  "nbformat": 4,
  "nbformat_minor": 5
}