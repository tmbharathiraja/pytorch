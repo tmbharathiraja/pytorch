{
 "cells": [
  {
   "cell_type": "markdown",
   "id": "3d51a327",
   "metadata": {},
   "source": [
    "# Problem : Wine Quality Predictions\n",
    "\n",
    "- **Task:** Predict the quality of wine based on the chemical compositions."
   ]
  },
  {
   "cell_type": "code",
   "execution_count": 1,
   "id": "919df9ac",
   "metadata": {},
   "outputs": [
    {
     "name": "stdout",
     "output_type": "stream",
     "text": [
      "sys.version='3.12.12 | packaged by conda-forge | (main, Oct 22 2025, 23:28:53) [Clang 19.1.7 ]'\n",
      "np.__version__='2.3.4'\n",
      "torch.__version__='2.8.0'\n"
     ]
    }
   ],
   "source": [
    "import sys\n",
    "import numpy as np\n",
    "import torch\n",
    "import torch.nn as nn\n",
    "import torch.optim as optim\n",
    "from collections import OrderedDict\n",
    "\n",
    "print(f\"{sys.version=}\")\n",
    "print(f\"{np.__version__=}\")\n",
    "print(f\"{torch.__version__=}\")"
   ]
  },
  {
   "cell_type": "markdown",
   "id": "93413192",
   "metadata": {},
   "source": [
    "# Data Engineering"
   ]
  },
  {
   "cell_type": "code",
   "execution_count": 2,
   "id": "6996c2fe",
   "metadata": {},
   "outputs": [
    {
     "data": {
      "text/plain": [
       "['fixed acidity',\n",
       " 'volatile acidity',\n",
       " 'citric acid',\n",
       " 'residual sugar',\n",
       " 'chlorides',\n",
       " 'free sulfur dioxide',\n",
       " 'total sulfur dioxide',\n",
       " 'density',\n",
       " 'pH',\n",
       " 'sulphates',\n",
       " 'alcohol',\n",
       " 'quality']"
      ]
     },
     "execution_count": 2,
     "metadata": {},
     "output_type": "execute_result"
    }
   ],
   "source": [
    "import csv\n",
    "wine_path = \"../data/winequality-white.csv\"\n",
    "\n",
    "with open(wine_path, 'r') as f:\n",
    "    reader = csv.reader(f, delimiter=';')\n",
    "    col_list = next(reader)\n",
    "col_list"
   ]
  },
  {
   "cell_type": "code",
   "execution_count": 3,
   "id": "2283368d",
   "metadata": {},
   "outputs": [
    {
     "data": {
      "text/plain": [
       "array([[ 7.  ,  0.27,  0.36, ...,  0.45,  8.8 ,  6.  ],\n",
       "       [ 6.3 ,  0.3 ,  0.34, ...,  0.49,  9.5 ,  6.  ],\n",
       "       [ 8.1 ,  0.28,  0.4 , ...,  0.44, 10.1 ,  6.  ],\n",
       "       ...,\n",
       "       [ 6.5 ,  0.24,  0.19, ...,  0.46,  9.4 ,  6.  ],\n",
       "       [ 5.5 ,  0.29,  0.3 , ...,  0.38, 12.8 ,  7.  ],\n",
       "       [ 6.  ,  0.21,  0.38, ...,  0.32, 11.8 ,  6.  ]],\n",
       "      shape=(4898, 12), dtype=float32)"
      ]
     },
     "execution_count": 3,
     "metadata": {},
     "output_type": "execute_result"
    }
   ],
   "source": [
    "# Data\n",
    "wineq_numpy = np.loadtxt(wine_path, dtype=np.float32, delimiter=\";\",\n",
    "                         skiprows=1)\n",
    "wineq_numpy"
   ]
  },
  {
   "cell_type": "code",
   "execution_count": 4,
   "id": "d8cdab78",
   "metadata": {},
   "outputs": [
    {
     "data": {
      "text/plain": [
       "torch.Size([4898, 12])"
      ]
     },
     "execution_count": 4,
     "metadata": {},
     "output_type": "execute_result"
    }
   ],
   "source": [
    "wineq = torch.from_numpy(wineq_numpy)\n",
    "wineq.shape"
   ]
  },
  {
   "cell_type": "markdown",
   "id": "b0b508a9",
   "metadata": {},
   "source": [
    "# Feature Engineering"
   ]
  },
  {
   "cell_type": "code",
   "execution_count": 5,
   "id": "36291025",
   "metadata": {},
   "outputs": [
    {
     "data": {
      "text/plain": [
       "(torch.Size([4898, 11]), torch.Size([4898, 1]))"
      ]
     },
     "execution_count": 5,
     "metadata": {},
     "output_type": "execute_result"
    }
   ],
   "source": [
    "x = wineq[:, :-1]\n",
    "y = wineq[:, -1].unsqueeze(1)\n",
    "x.shape, y.shape"
   ]
  },
  {
   "cell_type": "code",
   "execution_count": 6,
   "id": "b40a5b32",
   "metadata": {},
   "outputs": [
    {
     "data": {
      "text/plain": [
       "tensor([3., 4., 5., 6., 7., 8., 9.])"
      ]
     },
     "execution_count": 6,
     "metadata": {},
     "output_type": "execute_result"
    }
   ],
   "source": [
    "unique_labels = y.unique()\n",
    "unique_labels"
   ]
  },
  {
   "cell_type": "code",
   "execution_count": 7,
   "id": "4df3eb73",
   "metadata": {},
   "outputs": [
    {
     "data": {
      "text/plain": [
       "(torch.Size([3918, 11]),\n",
       " torch.Size([3918, 1]),\n",
       " torch.Size([980, 11]),\n",
       " torch.Size([980, 1]))"
      ]
     },
     "execution_count": 7,
     "metadata": {},
     "output_type": "execute_result"
    }
   ],
   "source": [
    "# Simple Train/val split (80/20)\n",
    "split = int(0.8 * len(x))\n",
    "x_train, y_train = x[:split], y[:split]\n",
    "x_val, y_val = x[split:], y[split:]\n",
    "\n",
    "x_train.shape, y_train.shape, x_val.shape, y_val.shape"
   ]
  },
  {
   "cell_type": "code",
   "execution_count": 8,
   "id": "25853823",
   "metadata": {},
   "outputs": [],
   "source": [
    "def normalize(tensor, mean=None, std=None):\n",
    "    if mean is None:\n",
    "        mean = tensor.mean(0, keepdim=True)\n",
    "    if std is None:\n",
    "        std = tensor.std(0, keepdim=True)\n",
    "    tensor = (tensor - mean) / std\n",
    "    return tensor, mean, std"
   ]
  },
  {
   "cell_type": "code",
   "execution_count": 9,
   "id": "e2b98195",
   "metadata": {},
   "outputs": [
    {
     "name": "stdout",
     "output_type": "stream",
     "text": [
      "mean =tensor([[6.9631e+00, 2.7591e-01, 3.4140e-01, 6.3671e+00, 4.5569e-02, 3.5570e+01,\n",
      "         1.4068e+02, 9.9421e-01, 3.1931e+00, 4.8868e-01, 1.0457e+01]]), std =tensor([[8.4499e-01, 1.0052e-01, 1.2298e-01, 5.1033e+00, 2.1928e-02, 1.6969e+01,\n",
      "         4.3406e+01, 2.9944e-03, 1.5322e-01, 1.1430e-01, 1.2144e+00]])\n"
     ]
    },
    {
     "data": {
      "text/plain": [
       "tensor([[ 0.0437, -0.0588,  0.1512,  2.8085, -0.0259,  0.5557,  0.6754,  2.2689,\n",
       "         -1.2606, -0.3384, -1.3642],\n",
       "        [-0.7847,  0.2397, -0.0114, -0.9341,  0.1565, -1.2711, -0.2001, -0.0688,\n",
       "          0.6974,  0.0115, -0.7878],\n",
       "        [ 1.3455,  0.0407,  0.4765,  0.1044,  0.2021, -0.3282, -1.0064,  0.2986,\n",
       "          0.4363, -0.4259, -0.2937],\n",
       "        [ 0.2804, -0.4567, -0.1740,  0.4179,  0.5669,  0.6736,  1.0440,  0.4655,\n",
       "         -0.0205, -0.7759, -0.4584],\n",
       "        [ 0.2804, -0.4567, -0.1740,  0.4179,  0.5669,  0.6736,  1.0440,  0.4655,\n",
       "         -0.0205, -0.7759, -0.4584]])"
      ]
     },
     "execution_count": 9,
     "metadata": {},
     "output_type": "execute_result"
    }
   ],
   "source": [
    "#normalize\n",
    "x_train, mean, std = normalize(x_train)\n",
    "print(f\"{mean =}, {std =}\")\n",
    "x_train[:5]\n"
   ]
  },
  {
   "cell_type": "code",
   "execution_count": 10,
   "id": "5b58813c",
   "metadata": {},
   "outputs": [
    {
     "name": "stdout",
     "output_type": "stream",
     "text": [
      "mean =tensor([[6.9631e+00, 2.7591e-01, 3.4140e-01, 6.3671e+00, 4.5569e-02, 3.5570e+01,\n",
      "         1.4068e+02, 9.9421e-01, 3.1931e+00, 4.8868e-01, 1.0457e+01]]), std =tensor([[8.4499e-01, 1.0052e-01, 1.2298e-01, 5.1033e+00, 2.1928e-02, 1.6969e+01,\n",
      "         4.3406e+01, 2.9944e-03, 1.5322e-01, 1.1430e-01, 1.2144e+00]])\n"
     ]
    },
    {
     "data": {
      "text/plain": [
       "tensor([[-0.6664,  0.7371, -0.4993, -0.9341, -0.3908, -0.2693, -0.6378, -2.1427,\n",
       "         -0.4774, -0.7759,  3.0826],\n",
       "        [-0.4297,  0.3391, -0.4993, -0.9733, -0.4820, -0.4461, -0.7760, -1.9523,\n",
       "         -1.2606, -0.7759,  2.2591],\n",
       "        [ 0.5170, -0.2578,  0.2325, -0.7382,  0.2021, -0.6818, -0.2001, -0.9438,\n",
       "         -0.9995,  0.3615,  0.6121],\n",
       "        [ 0.3987,  0.8365, -0.0114,  1.6524,  0.5213,  0.6147,  0.7445,  1.1034,\n",
       "         -0.3469,  0.7114, -0.2113],\n",
       "        [-0.3114,  0.3391, -0.3366, -0.7773, -0.3452, -0.3282, -1.3290, -1.8488,\n",
       "         -0.6732, -1.1258,  1.9297]])"
      ]
     },
     "execution_count": 10,
     "metadata": {},
     "output_type": "execute_result"
    }
   ],
   "source": [
    "#normalize\n",
    "x_val, _, _ = normalize(x_val, mean, std)\n",
    "print(f\"{mean =}, {std =}\")\n",
    "x_val[:5]\n"
   ]
  },
  {
   "cell_type": "markdown",
   "id": "90eb110c",
   "metadata": {},
   "source": [
    "# Model"
   ]
  },
  {
   "cell_type": "code",
   "execution_count": 11,
   "id": "ca7dfa40",
   "metadata": {},
   "outputs": [
    {
     "data": {
      "text/plain": [
       "11"
      ]
     },
     "execution_count": 11,
     "metadata": {},
     "output_type": "execute_result"
    }
   ],
   "source": [
    "x.size(1)"
   ]
  },
  {
   "cell_type": "code",
   "execution_count": 12,
   "id": "8cd2d3a3",
   "metadata": {},
   "outputs": [
    {
     "name": "stderr",
     "output_type": "stream",
     "text": [
      "/var/folders/js/_k136j9d7gg6wnt5qljgw61r0000gq/T/ipykernel_66319/1421874667.py:32: UserWarning: Converting a tensor with requires_grad=True to a scalar may lead to unexpected behavior.\n",
      "Consider using tensor.detach() first. (Triggered internally at /Users/runner/miniforge3/conda-bld/libtorch_1760285604563/work/torch/csrc/autograd/generated/python_variable_methods.cpp:836.)\n",
      "  print(\"Epoch: %d, Train Loss: %f, Validation Loss: %f\" % (epoch, float(loss), float(val_loss)))\n"
     ]
    },
    {
     "name": "stdout",
     "output_type": "stream",
     "text": [
      "Epoch: 0, Train Loss: 35.983425, Validation Loss: 32.845928\n",
      "Epoch: 100, Train Loss: 0.701042, Validation Loss: 0.587276\n",
      "Epoch: 200, Train Loss: 0.540105, Validation Loss: 0.425816\n",
      "Epoch: 300, Train Loss: 0.512907, Validation Loss: 0.411510\n",
      "Epoch: 400, Train Loss: 0.501035, Validation Loss: 0.408841\n",
      "Epoch: 499, Train Loss: 0.492835, Validation Loss: 0.406845\n"
     ]
    }
   ],
   "source": [
    "\n",
    "model = nn.Sequential(\n",
    "            nn.Linear(11, 256),\n",
    "            nn.ReLU(),\n",
    "            nn.Linear(256, 128),\n",
    "            nn.ReLU(),\n",
    "            nn.Linear(128, 64),\n",
    "            nn.ReLU(),\n",
    "            nn.Linear(64, 1)\n",
    "            )\n",
    "\n",
    "learning_rate = 1e-2\n",
    "optimizer = optim.SGD(model.parameters(), lr=learning_rate)\n",
    "\n",
    "loss_fn = nn.MSELoss()\n",
    "\n",
    "n_epochs = 500\n",
    "\n",
    "train_loss_list = []\n",
    "val_loss_list = []\n",
    "for epoch in range(n_epochs):\n",
    "    outputs = model(x_train)\n",
    "    loss = loss_fn(outputs, y_train)\n",
    "\n",
    "    optimizer.zero_grad()\n",
    "    loss.backward()\n",
    "    optimizer.step()\n",
    "\n",
    "    with torch.no_grad():\n",
    "        outputs = model(x_val)\n",
    "        val_loss = loss_fn(outputs, y_val)\n",
    "    if epoch % 100 == 0 or epoch == n_epochs - 1:\n",
    "        print(\"Epoch: %d, Train Loss: %f, Validation Loss: %f\" % (epoch, float(loss), float(val_loss)))\n",
    "    train_loss_list.append(float(loss))\n",
    "    val_loss_list.append(float(val_loss))\n",
    "\n",
    "    "
   ]
  },
  {
   "cell_type": "code",
   "execution_count": 13,
   "id": "8335c883",
   "metadata": {},
   "outputs": [
    {
     "data": {
      "image/png": "[encoded data removed]",
      "text/plain": [
       "<Figure size 640x480 with 1 Axes>"
      ]
     },
     "metadata": {},
     "output_type": "display_data"
    }
   ],
   "source": [
    "#plotting loss curves\n",
    "import matplotlib.pyplot as plt\n",
    "\n",
    "plt.plot(train_loss_list, label='Train Loss')\n",
    "plt.plot(val_loss_list, label='Validation Loss')\n",
    "plt.xlabel('Epochs')\n",
    "plt.ylabel('Loss')\n",
    "plt.legend()\n",
    "plt.show()"
   ]
  },
  {
   "cell_type": "code",
   "execution_count": null,
   "id": "ade65622",
   "metadata": {},
   "outputs": [],
   "source": []
  }
 ],
 "metadata": {
  "kernelspec": {
   "display_name": "PyTorch",
   "language": "python",
   "name": "python3"
  },
  "language_info": {
   "codemirror_mode": {
    "name": "ipython",
    "version": 3
   },
   "file_extension": ".py",
   "mimetype": "text/x-python",
   "name": "python",
   "nbconvert_exporter": "python",
   "pygments_lexer": "ipython3",
   "version": "3.12.12"
  }
 },
 "nbformat": 4,
 "nbformat_minor": 5
}
