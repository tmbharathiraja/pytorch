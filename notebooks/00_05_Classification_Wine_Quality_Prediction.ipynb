{
 "cells": [
  {
   "cell_type": "markdown",
   "id": "3d51a327",
   "metadata": {},
   "source": [
    "# Problem : Wine Quality Predictions\n",
    "\n",
    "- **Task:** Predict the quality of wine based on the chemical compositions."
   ]
  },
  {
   "cell_type": "code",
   "execution_count": 106,
   "id": "8b260887",
   "metadata": {},
   "outputs": [
    {
     "name": "stdout",
     "output_type": "stream",
     "text": [
      "sys.version='3.12.12 | packaged by conda-forge | (main, Oct 22 2025, 23:28:53) [Clang 19.1.7 ]'\n",
      "np.__version__='2.3.4'\n",
      "torch.__version__='2.8.0'\n"
     ]
    }
   ],
   "source": [
    "import sys\n",
    "import numpy as np\n",
    "import torch\n",
    "import torch.nn as nn\n",
    "import torch.optim as optim\n",
    "from collections import OrderedDict\n",
    "\n",
    "print(f\"{sys.version=}\")\n",
    "print(f\"{np.__version__=}\")\n",
    "print(f\"{torch.__version__=}\")"
   ]
  },
  {
   "cell_type": "markdown",
   "id": "93413192",
   "metadata": {},
   "source": [
    "# Data Engineering"
   ]
  },
  {
   "cell_type": "code",
   "execution_count": 107,
   "id": "6996c2fe",
   "metadata": {},
   "outputs": [
    {
     "data": {
      "text/plain": [
       "['fixed acidity',\n",
       " 'volatile acidity',\n",
       " 'citric acid',\n",
       " 'residual sugar',\n",
       " 'chlorides',\n",
       " 'free sulfur dioxide',\n",
       " 'total sulfur dioxide',\n",
       " 'density',\n",
       " 'pH',\n",
       " 'sulphates',\n",
       " 'alcohol',\n",
       " 'quality']"
      ]
     },
     "execution_count": 107,
     "metadata": {},
     "output_type": "execute_result"
    }
   ],
   "source": [
    "import csv\n",
    "wine_path = \"../data/winequality-white.csv\"\n",
    "\n",
    "with open(wine_path, 'r') as f:\n",
    "    reader = csv.reader(f, delimiter=';')\n",
    "    col_list = next(reader)\n",
    "col_list"
   ]
  },
  {
   "cell_type": "code",
   "execution_count": 108,
   "id": "2283368d",
   "metadata": {},
   "outputs": [
    {
     "data": {
      "text/plain": [
       "array([[ 7.  ,  0.27,  0.36, ...,  0.45,  8.8 ,  6.  ],\n",
       "       [ 6.3 ,  0.3 ,  0.34, ...,  0.49,  9.5 ,  6.  ],\n",
       "       [ 8.1 ,  0.28,  0.4 , ...,  0.44, 10.1 ,  6.  ],\n",
       "       ...,\n",
       "       [ 6.5 ,  0.24,  0.19, ...,  0.46,  9.4 ,  6.  ],\n",
       "       [ 5.5 ,  0.29,  0.3 , ...,  0.38, 12.8 ,  7.  ],\n",
       "       [ 6.  ,  0.21,  0.38, ...,  0.32, 11.8 ,  6.  ]],\n",
       "      shape=(4898, 12), dtype=float32)"
      ]
     },
     "execution_count": 108,
     "metadata": {},
     "output_type": "execute_result"
    }
   ],
   "source": [
    "# Data\n",
    "wineq_numpy = np.loadtxt(wine_path, dtype=np.float32, delimiter=\";\",\n",
    "                         skiprows=1)\n",
    "wineq_numpy"
   ]
  },
  {
   "cell_type": "code",
   "execution_count": 109,
   "id": "d8cdab78",
   "metadata": {},
   "outputs": [
    {
     "data": {
      "text/plain": [
       "torch.Size([4898, 12])"
      ]
     },
     "execution_count": 109,
     "metadata": {},
     "output_type": "execute_result"
    }
   ],
   "source": [
    "wineq = torch.from_numpy(wineq_numpy)\n",
    "wineq.shape"
   ]
  },
  {
   "cell_type": "markdown",
   "id": "b0b508a9",
   "metadata": {},
   "source": [
    "# Feature Engineering"
   ]
  },
  {
   "cell_type": "code",
   "execution_count": 110,
   "id": "36291025",
   "metadata": {},
   "outputs": [
    {
     "data": {
      "text/plain": [
       "(torch.Size([4898, 11]), torch.Size([4898, 1]))"
      ]
     },
     "execution_count": 110,
     "metadata": {},
     "output_type": "execute_result"
    }
   ],
   "source": [
    "x = wineq[:, :-1]\n",
    "y = wineq[:, -1].unsqueeze(1)\n",
    "x.shape, y.shape"
   ]
  },
  {
   "cell_type": "code",
   "execution_count": 111,
   "id": "b40a5b32",
   "metadata": {},
   "outputs": [
    {
     "data": {
      "text/plain": [
       "tensor([3., 4., 5., 6., 7., 8., 9.])"
      ]
     },
     "execution_count": 111,
     "metadata": {},
     "output_type": "execute_result"
    }
   ],
   "source": [
    "unique_labels = y.unique()\n",
    "unique_labels"
   ]
  },
  {
   "cell_type": "code",
   "execution_count": 112,
   "id": "4df3eb73",
   "metadata": {},
   "outputs": [
    {
     "data": {
      "text/plain": [
       "(torch.Size([3918, 11]),\n",
       " torch.Size([3918, 1]),\n",
       " torch.Size([980, 11]),\n",
       " torch.Size([980, 1]))"
      ]
     },
     "execution_count": 112,
     "metadata": {},
     "output_type": "execute_result"
    }
   ],
   "source": [
    "# Simple Train/val split (80/20)\n",
    "split = int(0.8 * len(x))\n",
    "x_train, y_train = x[:split], y[:split]\n",
    "x_val, y_val = x[split:], y[split:]\n",
    "\n",
    "x_train.shape, y_train.shape, x_val.shape, y_val.shape"
   ]
  },
  {
   "cell_type": "code",
   "execution_count": 113,
   "id": "25853823",
   "metadata": {},
   "outputs": [],
   "source": [
    "def normalize(tensor, mean=None, std=None):\n",
    "    if mean is None:\n",
    "        mean = tensor.mean(0, keepdim=True)\n",
    "    if std is None:\n",
    "        std = tensor.std(0, keepdim=True)\n",
    "    tensor = (tensor - mean) / std\n",
    "    return tensor, mean, std"
   ]
  },
  {
   "cell_type": "code",
   "execution_count": 114,
   "id": "e2b98195",
   "metadata": {},
   "outputs": [
    {
     "name": "stdout",
     "output_type": "stream",
     "text": [
      "mean =tensor([[6.9631e+00, 2.7591e-01, 3.4140e-01, 6.3671e+00, 4.5569e-02, 3.5570e+01,\n",
      "         1.4068e+02, 9.9421e-01, 3.1931e+00, 4.8868e-01, 1.0457e+01]]), std =tensor([[8.4499e-01, 1.0052e-01, 1.2298e-01, 5.1033e+00, 2.1928e-02, 1.6969e+01,\n",
      "         4.3406e+01, 2.9944e-03, 1.5322e-01, 1.1430e-01, 1.2144e+00]])\n"
     ]
    },
    {
     "data": {
      "text/plain": [
       "tensor([[ 0.0437, -0.0588,  0.1512,  2.8085, -0.0259,  0.5557,  0.6754,  2.2689,\n",
       "         -1.2606, -0.3384, -1.3642],\n",
       "        [-0.7847,  0.2397, -0.0114, -0.9341,  0.1565, -1.2711, -0.2001, -0.0688,\n",
       "          0.6974,  0.0115, -0.7878],\n",
       "        [ 1.3455,  0.0407,  0.4765,  0.1044,  0.2021, -0.3282, -1.0064,  0.2986,\n",
       "          0.4363, -0.4259, -0.2937],\n",
       "        [ 0.2804, -0.4567, -0.1740,  0.4179,  0.5669,  0.6736,  1.0440,  0.4655,\n",
       "         -0.0205, -0.7759, -0.4584],\n",
       "        [ 0.2804, -0.4567, -0.1740,  0.4179,  0.5669,  0.6736,  1.0440,  0.4655,\n",
       "         -0.0205, -0.7759, -0.4584]])"
      ]
     },
     "execution_count": 114,
     "metadata": {},
     "output_type": "execute_result"
    }
   ],
   "source": [
    "#normalize\n",
    "x_train, mean, std = normalize(x_train)\n",
    "print(f\"{mean =}, {std =}\")\n",
    "x_train[:5]\n"
   ]
  },
  {
   "cell_type": "code",
   "execution_count": 115,
   "id": "5b58813c",
   "metadata": {},
   "outputs": [
    {
     "name": "stdout",
     "output_type": "stream",
     "text": [
      "mean =tensor([[6.9631e+00, 2.7591e-01, 3.4140e-01, 6.3671e+00, 4.5569e-02, 3.5570e+01,\n",
      "         1.4068e+02, 9.9421e-01, 3.1931e+00, 4.8868e-01, 1.0457e+01]]), std =tensor([[8.4499e-01, 1.0052e-01, 1.2298e-01, 5.1033e+00, 2.1928e-02, 1.6969e+01,\n",
      "         4.3406e+01, 2.9944e-03, 1.5322e-01, 1.1430e-01, 1.2144e+00]])\n"
     ]
    },
    {
     "data": {
      "text/plain": [
       "tensor([[-0.6664,  0.7371, -0.4993, -0.9341, -0.3908, -0.2693, -0.6378, -2.1427,\n",
       "         -0.4774, -0.7759,  3.0826],\n",
       "        [-0.4297,  0.3391, -0.4993, -0.9733, -0.4820, -0.4461, -0.7760, -1.9523,\n",
       "         -1.2606, -0.7759,  2.2591],\n",
       "        [ 0.5170, -0.2578,  0.2325, -0.7382,  0.2021, -0.6818, -0.2001, -0.9438,\n",
       "         -0.9995,  0.3615,  0.6121],\n",
       "        [ 0.3987,  0.8365, -0.0114,  1.6524,  0.5213,  0.6147,  0.7445,  1.1034,\n",
       "         -0.3469,  0.7114, -0.2113],\n",
       "        [-0.3114,  0.3391, -0.3366, -0.7773, -0.3452, -0.3282, -1.3290, -1.8488,\n",
       "         -0.6732, -1.1258,  1.9297]])"
      ]
     },
     "execution_count": 115,
     "metadata": {},
     "output_type": "execute_result"
    }
   ],
   "source": [
    "#normalize\n",
    "x_val, _, _ = normalize(x_val, mean, std)\n",
    "print(f\"{mean =}, {std =}\")\n",
    "x_val[:5]\n"
   ]
  },
  {
   "cell_type": "code",
   "execution_count": 116,
   "id": "9e0c2817",
   "metadata": {},
   "outputs": [],
   "source": [
    "\n",
    "def _preprocess_targets(y):\n",
    "    \"\"\"\n",
    "    Normalize raw targets to a 1D tensor of label *values* (not indices) first.\n",
    "    Handles shapes (N, 1) -> (N,), one-hot/prob/probabilities (N, C) -> argmax,\n",
    "    and dtype casting.\n",
    "    \"\"\"\n",
    "    if y.ndim == 2 and y.size(-1) == 1:      # (N,1) -> (N,)\n",
    "        y = y.squeeze(-1)\n",
    "    if y.ndim == 2 and y.size(-1) > 1:       # (N,C) one-hot/probs -> (N,)\n",
    "        y = y.argmax(dim=1)\n",
    "    return y.to(dtype=torch.long)\n",
    "\n",
    "def fit_ce_classes(y_train_raw):\n",
    "    \"\"\"\n",
    "    Learn the *set of label values* from training targets.\n",
    "    Returns a sorted 1D tensor 'classes' of unique label values, e.g. tensor([0,1,2,...,9]).\n",
    "    \"\"\"\n",
    "    y = _preprocess_targets(y_train_raw)\n",
    "    classes = torch.sort(y.unique()).values\n",
    "    return classes\n",
    "\n",
    "def to_ce_targets(y_raw, classes, unknown_index=-100):\n",
    "    \"\"\"\n",
    "    Map raw targets to CE-ready class indices (0..K-1) based on 'classes'.\n",
    "    Unseen labels get 'unknown_index' (so CE can ignore them if you set ignore_index accordingly).\n",
    "    Returns (targets_indices: (N,), dtype long)\n",
    "    \"\"\"\n",
    "    device = y_raw.device if isinstance(y_raw, torch.Tensor) else None\n",
    "    classes = classes.to(device) if device is not None else classes\n",
    "\n",
    "    y = _preprocess_targets(y_raw)           # label *values* (N,)\n",
    "    # Vectorized mapping via searchsorted + equality check\n",
    "    idx = torch.searchsorted(classes, y)     # proposed positions\n",
    "    # Valid if within bounds and exactly matches that class value\n",
    "    valid = (idx >= 0) & (idx < classes.numel())\n",
    "    valid = valid & (classes[idx.clamp(max=classes.numel()-1)] == y)\n",
    "\n",
    "    targets = torch.full_like(y, fill_value=unknown_index)\n",
    "    targets[valid] = idx[valid]\n",
    "    return targets"
   ]
  },
  {
   "cell_type": "code",
   "execution_count": 117,
   "id": "934c2db8",
   "metadata": {},
   "outputs": [
    {
     "data": {
      "text/plain": [
       "tensor([3, 4, 5, 6, 7, 8, 9])"
      ]
     },
     "execution_count": 117,
     "metadata": {},
     "output_type": "execute_result"
    }
   ],
   "source": [
    "classes = fit_ce_classes(y)  # e.g., tensor([0,1,2,3,4,5,6,7,8,9])\n",
    "classes"
   ]
  },
  {
   "cell_type": "code",
   "execution_count": 118,
   "id": "20d292a7",
   "metadata": {},
   "outputs": [],
   "source": [
    "y_train_ce = to_ce_targets(y_train, classes, unknown_index=-100)\n",
    "y_val_ce   = to_ce_targets(y_val,   classes, unknown_index=-100)"
   ]
  },
  {
   "cell_type": "markdown",
   "id": "90eb110c",
   "metadata": {},
   "source": [
    "# Model"
   ]
  },
  {
   "cell_type": "code",
   "execution_count": null,
   "id": "8cd2d3a3",
   "metadata": {},
   "outputs": [
    {
     "name": "stdout",
     "output_type": "stream",
     "text": [
      "Epoch: 0, Train Loss: 1.977374, Validation Loss: 1.975424, Accuracy: 0.062245\n",
      "Epoch: 100, Train Loss: 1.633589, Validation Loss: 1.588207, Accuracy: 0.527551\n",
      "Epoch: 200, Train Loss: 1.375334, Validation Loss: 1.282076, Accuracy: 0.527551\n",
      "Epoch: 300, Train Loss: 1.314703, Validation Loss: 1.213394, Accuracy: 0.527551\n",
      "Epoch: 400, Train Loss: 1.284565, Validation Loss: 1.181786, Accuracy: 0.540816\n",
      "Epoch: 500, Train Loss: 1.258175, Validation Loss: 1.156153, Accuracy: 0.548980\n",
      "Epoch: 600, Train Loss: 1.233268, Validation Loss: 1.133565, Accuracy: 0.566327\n",
      "Epoch: 700, Train Loss: 1.210577, Validation Loss: 1.114285, Accuracy: 0.578571\n",
      "Epoch: 800, Train Loss: 1.190830, Validation Loss: 1.098446, Accuracy: 0.595918\n",
      "Epoch: 900, Train Loss: 1.174126, Validation Loss: 1.085835, Accuracy: 0.586735\n",
      "Epoch: 1000, Train Loss: 1.160194, Validation Loss: 1.075329, Accuracy: 0.581633\n",
      "Epoch: 1100, Train Loss: 1.148694, Validation Loss: 1.066370, Accuracy: 0.579592\n",
      "Epoch: 1200, Train Loss: 1.139128, Validation Loss: 1.058711, Accuracy: 0.584694\n",
      "Epoch: 1300, Train Loss: 1.131015, Validation Loss: 1.051987, Accuracy: 0.580612\n",
      "Epoch: 1400, Train Loss: 1.123995, Validation Loss: 1.045745, Accuracy: 0.575510\n",
      "Epoch: 1500, Train Loss: 1.117784, Validation Loss: 1.039920, Accuracy: 0.573469\n",
      "Epoch: 1600, Train Loss: 1.112208, Validation Loss: 1.034588, Accuracy: 0.573469\n",
      "Epoch: 1700, Train Loss: 1.107155, Validation Loss: 1.029663, Accuracy: 0.574490\n",
      "Epoch: 1800, Train Loss: 1.102507, Validation Loss: 1.025004, Accuracy: 0.573469\n",
      "Epoch: 1900, Train Loss: 1.098228, Validation Loss: 1.020711, Accuracy: 0.572449\n",
      "Epoch: 2000, Train Loss: 1.094264, Validation Loss: 1.016687, Accuracy: 0.576531\n",
      "Epoch: 2100, Train Loss: 1.090590, Validation Loss: 1.012964, Accuracy: 0.576531\n",
      "Epoch: 2200, Train Loss: 1.087186, Validation Loss: 1.009486, Accuracy: 0.575510\n",
      "Epoch: 2300, Train Loss: 1.084008, Validation Loss: 1.006218, Accuracy: 0.573469\n",
      "Epoch: 2400, Train Loss: 1.081025, Validation Loss: 1.003108, Accuracy: 0.573469\n"
     ]
    }
   ],
   "source": [
    "\n",
    "model = nn.Sequential(\n",
    "            nn.Linear(x.size(1), 256),\n",
    "            nn.ReLU(),\n",
    "            nn.Linear(256, 128),\n",
    "            nn.ReLU(),\n",
    "            nn.Linear(128, 64),\n",
    "            nn.ReLU(),\n",
    "            nn.Linear(64, classes.numel())\n",
    "            )\n",
    "\n",
    "learning_rate = 1e-2\n",
    "\n",
    "optimizer = optim.SGD(model.parameters(), lr=learning_rate)\n",
    "\n",
    "loss_fn = nn.CrossEntropyLoss()\n",
    "\n",
    "n_epochs = 5000\n",
    "\n",
    "train_loss_list = []\n",
    "val_loss_list = []\n",
    "accuracy_list = []\n",
    "for epoch in range(n_epochs):\n",
    "    outputs = model(x_train)\n",
    "    loss = loss_fn(outputs, y_train_ce)\n",
    "\n",
    "    optimizer.zero_grad()\n",
    "    loss.backward()\n",
    "    optimizer.step()\n",
    "\n",
    "    with torch.no_grad():\n",
    "        outputs = model(x_val)\n",
    "        val_loss = loss_fn(outputs, y_val_ce)\n",
    "        _, predicted = torch.max(outputs, 1)\n",
    "        accuracy = (predicted == y_val_ce).float().mean()\n",
    "    if epoch % 100 == 0 or epoch == n_epochs - 1:\n",
    "        print(\"Epoch: %d, Train Loss: %f, Validation Loss: %f, Accuracy: %f\" % (epoch, float(loss), float(val_loss), float(accuracy)))\n",
    "\n",
    "    train_loss_list.append(float(loss))\n",
    "    val_loss_list.append(float(val_loss))\n",
    "    accuracy_list.append(float(accuracy))\n",
    "\n",
    "    "
   ]
  },
  {
   "cell_type": "code",
   "execution_count": null,
   "id": "8335c883",
   "metadata": {},
   "outputs": [
    {
     "data": {
      "image/png": "[encoded data removed]",
      "text/plain": [
       "<Figure size 640x480 with 1 Axes>"
      ]
     },
     "metadata": {},
     "output_type": "display_data"
    },
    {
     "data": {
      "image/png": "[encoded data removed]",
      "text/plain": [
       "<Figure size 640x480 with 1 Axes>"
      ]
     },
     "metadata": {},
     "output_type": "display_data"
    }
   ],
   "source": [
    "#plotting loss curves\n",
    "import matplotlib.pyplot as plt\n",
    "\n",
    "plt.plot(train_loss_list, label='Train Loss')\n",
    "plt.plot(val_loss_list, label='Validation Loss')\n",
    "plt.xlabel('Epochs')\n",
    "plt.ylabel('Loss')\n",
    "plt.legend()\n",
    "plt.show()\n",
    "\n",
    "plt.plot(accuracy_list, label='Validation Accuracy')\n",
    "plt.xlabel('Epochs')\n",
    "plt.ylabel('Accuracy')\n",
    "plt.legend()\n",
    "plt.show()"
   ]
  },
  {
   "cell_type": "code",
   "execution_count": null,
   "id": "ade65622",
   "metadata": {},
   "outputs": [],
   "source": []
  }
 ],
 "metadata": {
  "kernelspec": {
   "display_name": "PyTorch",
   "language": "python",
   "name": "python3"
  },
  "language_info": {
   "codemirror_mode": {
    "name": "ipython",
    "version": 3
   },
   "file_extension": ".py",
   "mimetype": "text/x-python",
   "name": "python",
   "nbconvert_exporter": "python",
   "pygments_lexer": "ipython3",
   "version": "3.12.12"
  }
 },
 "nbformat": 4,
 "nbformat_minor": 5
}
